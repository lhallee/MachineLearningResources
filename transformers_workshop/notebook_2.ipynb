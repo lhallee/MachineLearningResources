{
  "cells": [
    {
      "cell_type": "markdown",
      "metadata": {},
      "source": [
        "# Notebook 2: Minimal Transformer Encoder Block\n",
        "\n",
        "In this notebook, you'll:\n",
        "- Build a minimal Transformer encoder block (LayerNorm, Multi-Head Attention, MLP)\n",
        "- Add residual connections\n",
        "- Run a forward pass on synthetic data\n",
        "- Inspect shapes and parameters\n",
        "- Optionally evaluate on MNIST patches to verify end-to-end\n"
      ]
    },
    {
      "cell_type": "code",
      "execution_count": 1,
      "metadata": {},
      "outputs": [],
      "source": [
        "# Imports and config\n",
        "import math\n",
        "import torch\n",
        "import torch.nn as nn\n",
        "import torch.nn.functional as F\n",
        "import numpy as np\n",
        "from torchvision import datasets, transforms\n",
        "\n",
        "DEVICE = torch.device('cuda' if torch.cuda.is_available() else 'cpu')\n",
        "SEED = 0\n",
        "torch.manual_seed(SEED)\n",
        "np.random.seed(SEED)\n",
        "\n",
        "HIDDEN_DIM = 128\n",
        "INTERMEDIATE_DIM = 256\n",
        "NUM_HEADS = 4\n"
      ]
    },
    {
      "cell_type": "code",
      "execution_count": 2,
      "metadata": {},
      "outputs": [],
      "source": [
        "class MultiHeadAttention(nn.Module):\n",
        "    def __init__(self, hidden_dim: int, num_heads: int):\n",
        "        super().__init__()\n",
        "        assert hidden_dim % num_heads == 0, \"hidden_dim must be divisible by num_heads\"\n",
        "        self.hidden_dim = hidden_dim\n",
        "        self.num_heads = num_heads\n",
        "        self.head_dim = hidden_dim // num_heads\n",
        "\n",
        "        self.W_Q = nn.Linear(hidden_dim, hidden_dim)\n",
        "        self.W_K = nn.Linear(hidden_dim, hidden_dim)\n",
        "        self.W_V = nn.Linear(hidden_dim, hidden_dim)\n",
        "        self.W_O = nn.Linear(hidden_dim, hidden_dim)\n",
        "\n",
        "    def forward(self, x: torch.Tensor) -> torch.Tensor:\n",
        "        # x: (batch, length, hidden_dim)\n",
        "        batch = x.size(0)\n",
        "        L = x.size(1)\n",
        "\n",
        "        Q = self.W_Q(x).view(batch, L, self.num_heads, self.head_dim).transpose(1, 2)  # (b, h, L, d_h)\n",
        "        K = self.W_K(x).view(batch, L, self.num_heads, self.head_dim).transpose(1, 2)  # (b, h, L, d_h)\n",
        "        V = self.W_V(x).view(batch, L, self.num_heads, self.head_dim).transpose(1, 2)  # (b, h, L, d_h)\n",
        "\n",
        "        attn_logits = Q @ K.transpose(-1, -2) / math.sqrt(self.head_dim)               # (b, h, L, L)\n",
        "        attn = F.softmax(attn_logits, dim=-1)\n",
        "        H = attn @ V                                                                  # (b, h, L, d_h)\n",
        "        H = H.transpose(1, 2).contiguous().view(batch, L, self.hidden_dim)            # (b, L, d)\n",
        "        return self.W_O(H)\n"
      ]
    },
    {
      "cell_type": "code",
      "execution_count": 3,
      "metadata": {},
      "outputs": [],
      "source": [
        "class MLP(nn.Module):\n",
        "    def __init__(self, hidden_dim: int, intermediate_dim: int):\n",
        "        super().__init__()\n",
        "        self.w1 = nn.Linear(hidden_dim, intermediate_dim)\n",
        "        self.w2 = nn.Linear(intermediate_dim, hidden_dim)\n",
        "\n",
        "    def forward(self, x: torch.Tensor) -> torch.Tensor:\n",
        "        return self.w2(F.gelu(self.w1(x)))\n"
      ]
    },
    {
      "cell_type": "code",
      "execution_count": 4,
      "metadata": {},
      "outputs": [],
      "source": [
        "class TransformerEncoderBlock(nn.Module):\n",
        "    def __init__(self, hidden_dim: int, intermediate_dim: int, num_heads: int):\n",
        "        super().__init__()\n",
        "        self.ln1 = nn.LayerNorm(hidden_dim)\n",
        "        self.mha = MultiHeadAttention(hidden_dim, num_heads)\n",
        "        self.ln2 = nn.LayerNorm(hidden_dim)\n",
        "        self.mlp = MLP(hidden_dim, intermediate_dim)\n",
        "\n",
        "    def forward(self, x: torch.Tensor) -> torch.Tensor:\n",
        "        # Pre-norm\n",
        "        h = x + self.mha(self.ln1(x))\n",
        "        h = h + self.mlp(self.ln2(h))\n",
        "        return h\n"
      ]
    },
    {
      "cell_type": "code",
      "execution_count": 5,
      "metadata": {},
      "outputs": [
        {
          "name": "stdout",
          "output_type": "stream",
          "text": [
            "Input: torch.Size([4, 32, 128]) Output: torch.Size([4, 32, 128])\n"
          ]
        }
      ],
      "source": [
        "# Synthetic data forward pass\n",
        "batch, length = 4, 32\n",
        "x = torch.randn(batch, length, HIDDEN_DIM)\n",
        "block = TransformerEncoderBlock(HIDDEN_DIM, INTERMEDIATE_DIM, NUM_HEADS)\n",
        "y = block(x)\n",
        "print('Input:', x.shape, 'Output:', y.shape)\n"
      ]
    },
    {
      "cell_type": "code",
      "execution_count": 6,
      "metadata": {},
      "outputs": [
        {
          "name": "stdout",
          "output_type": "stream",
          "text": [
            "Tokens: torch.Size([1, 16, 1, 128]) Encoded: torch.Size([1, 16, 16, 128]) Pooled: torch.Size([1, 16, 128]) Label: 7\n"
          ]
        }
      ],
      "source": [
        "# Optional: MNIST patch embedding + one encoder block\n",
        "IMG_SIZE = 28\n",
        "PATCH = 7\n",
        "TOKENS = (IMG_SIZE // PATCH) * (IMG_SIZE // PATCH)  # 16\n",
        "\n",
        "mean, std = 0.1307, 0.3081\n",
        "transform = transforms.Compose([\n",
        "    transforms.ToTensor(),\n",
        "    transforms.Normalize((mean,), (std,))\n",
        "])\n",
        "\n",
        "test_ds = datasets.MNIST('../data/MNIST/', train=False, download=True, transform=transform)\n",
        "img, label = test_ds[0]\n",
        "\n",
        "# Patchify to tokens of dim 49 and project to hidden size\n",
        "\n",
        "def image_to_patches(x: torch.Tensor, patch: int = PATCH):\n",
        "    c, h, w = x.shape\n",
        "    x = x.unfold(1, patch, patch).unfold(2, patch, patch)  # (1, 4, 4, 7, 7)\n",
        "    x = x.contiguous().view(c, -1, patch*patch).transpose(0, 1)  # (16, 49)\n",
        "    return x\n",
        "\n",
        "patches = image_to_patches(img)  # (16, 49)\n",
        "proj = nn.Linear(PATCH*PATCH, HIDDEN_DIM)\n",
        "with torch.no_grad():\n",
        "    tokens = proj(patches)              # (16, HIDDEN_DIM)\n",
        "    tokens = tokens.unsqueeze(0)        # (1, 16, HIDDEN_DIM)\n",
        "    block = TransformerEncoderBlock(HIDDEN_DIM, INTERMEDIATE_DIM, NUM_HEADS)\n",
        "    y = block(tokens)\n",
        "    pooled = y.mean(dim=1)              # (1, HIDDEN_DIM)\n",
        "\n",
        "print('Tokens:', tokens.shape, 'Encoded:', y.shape, 'Pooled:', pooled.shape, 'Label:', label)\n"
      ]
    },
    {
      "cell_type": "markdown",
      "metadata": {},
      "source": [
        "## Intuition and design choices\n",
        "- Pre-norm improves optimization stability for deeper stacks.\n",
        "- LayerNorm normalizes features per token; residuals preserve information flow.\n",
        "- Multi-Head splits the space to attend to different patterns in parallel.\n",
        "- MLP expands features nonlinearly; GELU is commonly used.\n"
      ]
    },
    {
      "cell_type": "code",
      "execution_count": 7,
      "metadata": {},
      "outputs": [
        {
          "name": "stdout",
          "output_type": "stream",
          "text": [
            "Without PE std: 0.16249534487724304\n",
            "With PE std   : 0.6424624919891357\n"
          ]
        }
      ],
      "source": [
        "# Sinusoidal positional encoding (PE)\n",
        "\n",
        "def sinusoidal_position_encoding(length: int, dim: int):\n",
        "    pos = torch.arange(length).unsqueeze(1)           # (L,1)\n",
        "    i = torch.arange(dim).unsqueeze(0)                # (1,d)\n",
        "    angle_rates = 1 / torch.pow(10000, (2*(i//2))/dim)\n",
        "    angles = pos * angle_rates                        # (L,d)\n",
        "    pe = torch.zeros(length, dim)\n",
        "    pe[:, 0::2] = torch.sin(angles[:, 0::2])\n",
        "    pe[:, 1::2] = torch.cos(angles[:, 1::2])\n",
        "    return pe\n",
        "\n",
        "# Demonstrate symmetry breaking with PE\n",
        "batch, length = 1, 16\n",
        "x = torch.zeros(batch, length, HIDDEN_DIM)           # identical tokens\n",
        "block = TransformerEncoderBlock(HIDDEN_DIM, INTERMEDIATE_DIM, NUM_HEADS)\n",
        "\n",
        "with torch.no_grad():\n",
        "    y_nope = block(x)\n",
        "    pe = sinusoidal_position_encoding(length, HIDDEN_DIM).unsqueeze(0)\n",
        "    y_pe = block(x + pe)\n",
        "\n",
        "print('Without PE std:', y_nope.std().item())\n",
        "print('With PE std   :', y_pe.std().item())\n"
      ]
    },
    {
      "cell_type": "code",
      "execution_count": 8,
      "metadata": {},
      "outputs": [
        {
          "data": {
            "image/png": "[encoded data removed]",
            "text/plain": [
              "<Figure size 1000x300 with 4 Axes>"
            ]
          },
          "metadata": {},
          "output_type": "display_data"
        }
      ],
      "source": [
        "# Visualize one head's attention on toy tokens\n",
        "\n",
        "def get_attention_weights(mha: MultiHeadAttention, x: torch.Tensor):\n",
        "    with torch.no_grad():\n",
        "        batch = x.size(0); L = x.size(1)\n",
        "        Q = mha.W_Q(x).view(batch, L, mha.num_heads, mha.head_dim).transpose(1, 2)\n",
        "        K = mha.W_K(x).view(batch, L, mha.num_heads, mha.head_dim).transpose(1, 2)\n",
        "        logits = Q @ K.transpose(-1, -2) / math.sqrt(mha.head_dim)\n",
        "        W = F.softmax(logits, dim=-1)\n",
        "        return W\n",
        "\n",
        "length = 20\n",
        "x = torch.randn(1, length, HIDDEN_DIM)\n",
        "pe = sinusoidal_position_encoding(length, HIDDEN_DIM).unsqueeze(0)\n",
        "block = TransformerEncoderBlock(HIDDEN_DIM, INTERMEDIATE_DIM, NUM_HEADS)\n",
        "W = get_attention_weights(block.mha, x + pe)          # (1, heads, L, L)\n",
        "\n",
        "import matplotlib.pyplot as plt\n",
        "fig, axes = plt.subplots(1, min(NUM_HEADS, 4), figsize=(10,3))\n",
        "for h in range(min(NUM_HEADS, 4)):\n",
        "    axes[h].imshow(W[0, h].numpy(), cmap='viridis')\n",
        "    axes[h].set_title(f'Head {h}')\n",
        "    axes[h].set_xlabel('Key'); axes[h].set_ylabel('Query')\n",
        "plt.tight_layout(); plt.show()\n"
      ]
    },
    {
      "cell_type": "markdown",
      "metadata": {},
      "source": [
        "### Exercises\n",
        "- Switch to post-norm and compare training stability on a small task.\n",
        "- Add Dropout to attention weights and MLP layer; observe effects.\n",
        "- Stack 2–3 encoder blocks and measure parameter growth and speed.\n",
        "- Try different head counts while keeping hidden_dim fixed.\n"
      ]
    }
  ],
  "metadata": {
    "kernelspec": {
      "display_name": "Python 3",
      "language": "python",
      "name": "python3"
    },
    "language_info": {
      "codemirror_mode": {
        "name": "ipython",
        "version": 3
      },
      "file_extension": ".py",
      "mimetype": "text/x-python",
      "name": "python",
      "nbconvert_exporter": "python",
      "pygments_lexer": "ipython3",
      "version": "3.11.9"
    }
  },
  "nbformat": 4,
  "nbformat_minor": 2
}
