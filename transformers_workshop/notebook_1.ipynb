{
  "cells": [
    {
      "cell_type": "markdown",
      "metadata": {},
      "source": [
        "# Notebook 1: Intuition for ML"
      ]
    },
    {
      "cell_type": "code",
      "execution_count": 26,
      "metadata": {},
      "outputs": [],
      "source": [
        "import torch\n",
        "import torch.nn as nn\n",
        "import torch.nn.functional as F\n",
        "import matplotlib.pyplot as plt\n",
        "import numpy as np\n",
        "from tqdm.auto import tqdm\n",
        "from torch.utils.data import DataLoader\n",
        "\n",
        "from utils import get_mnist_dataset"
      ]
    },
    {
      "cell_type": "code",
      "execution_count": 27,
      "metadata": {},
      "outputs": [
        {
          "name": "stdout",
          "output_type": "stream",
          "text": [
            "Mean: 0.13066047430038452, Std: 0.30810779333114624\n"
          ]
        }
      ],
      "source": [
        "train_dataset, test_dataset = get_mnist_dataset()"
      ]
    },
    {
      "cell_type": "code",
      "execution_count": 32,
      "metadata": {},
      "outputs": [
        {
          "name": "stdout",
          "output_type": "stream",
          "text": [
            "Training data shape: X=torch.Size([60000, 784]), y=torch.Size([60000, 10])\n",
            "Test data shape: X=torch.Size([10000, 784]), y=torch.Size([10000, 10])\n",
            "Learned parameters shape: torch.Size([784, 10])\n",
            "Linear regression test accuracy: 0.8596\n"
          ]
        }
      ],
      "source": [
        "# Let's try linear regression\n",
        "# Prepare data for normal equations (X^T X)^-1 X^T y\n",
        "def prepare_data_for_normal_equations(dataset):\n",
        "    \"\"\"Convert dataset to matrices for normal equation solution\"\"\"\n",
        "    X, y = [], []\n",
        "    for image, label in dataset:\n",
        "        # Flatten image and add bias term (intercept)\n",
        "        flattened = image.view(-1) # 784 features\n",
        "        X.append(flattened)\n",
        "        # One-hot encode labels for multi-class regression\n",
        "        one_hot = torch.zeros(10)\n",
        "        one_hot[label] = 1\n",
        "        y.append(one_hot)\n",
        "    X = torch.stack(X)  # (n_samples, 784) - 784 features\n",
        "    y = torch.stack(y)  # (n_samples, 10) - one-hot encoded labels\n",
        "    return X, y\n",
        "\n",
        "\n",
        "# Solve using normal equations: theta = (X^T X)^-1 X^T y\n",
        "X_train, y_train = prepare_data_for_normal_equations(train_dataset)\n",
        "X_test, y_test = prepare_data_for_normal_equations(test_dataset)\n",
        "\n",
        "print(f\"Training data shape: X={X_train.shape}, y={y_train.shape}\")\n",
        "print(f\"Test data shape: X={X_test.shape}, y={y_test.shape}\")\n",
        "\n",
        "# Compute normal equations solution (use pseudo-inverse for stability)\n",
        "X_T = X_train.t()  # Transpose\n",
        "XTX = torch.mm(X_T, X_train)  # X^T X\n",
        "XTX_pinv = torch.linalg.pinv(XTX)  # (X^T X)^+ (pseudo-inverse)\n",
        "XTy = torch.mm(X_T, y_train)  # X^T y\n",
        "theta = torch.mm(XTX_pinv, XTy)  # Final solution\n",
        "\n",
        "print(f\"Learned parameters shape: {theta.shape}\")  # Should be (784, 10)\n",
        "\n",
        "# Test accuracy\n",
        "y_pred = torch.mm(X_test, theta)  # Apply linear model: y = X * theta\n",
        "pred_labels = torch.argmax(y_pred, dim=1)  # Get predicted class labels\n",
        "true_labels = torch.argmax(y_test, dim=1)  # Get true class labels\n",
        "accuracy = (pred_labels == true_labels).float().mean()\n",
        "print(f\"Linear regression test accuracy: {accuracy:.4f}\")"
      ]
    },
    {
      "cell_type": "code",
      "execution_count": null,
      "metadata": {},
      "outputs": [],
      "source": [
        "# Simple averaging classifier\n",
        "class AveragingClassifier(nn.Module):\n",
        "    def __init__(self, input_size=784, num_classes=10):\n",
        "        super().__init__()\n",
        "        self.input_size = input_size\n",
        "        self.num_classes = num_classes\n",
        "        # Store class averages as parameters\n",
        "        self.class_averages = nn.Parameter(torch.zeros(num_classes, input_size))\n",
        "        \n",
        "    def fit(self, dataset):\n",
        "        \"\"\"Compute the average image for each class\"\"\"\n",
        "        # Initialize accumulators\n",
        "        class_sums = torch.zeros(self.num_classes, self.input_size)\n",
        "        class_counts = torch.zeros(self.num_classes)\n",
        "        \n",
        "        # Accumulate images by class\n",
        "        for image, label in dataset:\n",
        "            flattened = image.view(-1)  # Flatten 28x28 to 784\n",
        "            class_sums[label] += flattened\n",
        "            class_counts[label] += 1\n",
        "            \n",
        "        # Compute averages\n",
        "        for i in range(self.num_classes):\n",
        "            if class_counts[i] > 0:\n",
        "                self.class_averages.data[i] = class_sums[i] / class_counts[i]\n",
        "    \n",
        "    def forward(self, x, sim_type: str = 'cosine'):\n",
        "        # Flatten input images\n",
        "        x_flat = x.view(x.size(0), -1)  # (batch_size, 784)\n",
        "        # Compute dot product with each class average\n",
        "        # x_flat: (batch_size, 784), class_averages: (10, 784)\n",
        "        if sim_type == 'cosine':\n",
        "            # Normalize vectors\n",
        "            x_flat = F.normalize(x_flat, p=2, dim=1)\n",
        "            class_averages = F.normalize(self.class_averages, p=2, dim=1)\n",
        "            logits = torch.mm(x_flat, class_averages.t())  # (batch_size, 10)\n",
        "        elif sim_type == 'euc':\n",
        "            logits = -torch.cdist(x_flat, self.class_averages)  # (batch_size, 10)\n",
        "        elif sim_type == 'dot':\n",
        "            logits = torch.mm(x_flat, self.class_averages.t())  # (batch_size, 10)\n",
        "        else:\n",
        "            raise ValueError(f\"Invalid similarity type: {sim_type}\")\n",
        "        return logits"
      ]
    },
    {
      "cell_type": "code",
      "execution_count": 30,
      "metadata": {},
      "outputs": [
        {
          "name": "stdout",
          "output_type": "stream",
          "text": [
            "Fitting averaging classifier...\n",
            "Done!\n"
          ]
        }
      ],
      "source": [
        "# Create and train the averaging classifier\n",
        "model = AveragingClassifier()\n",
        "print(\"Fitting averaging classifier...\")\n",
        "model.fit(train_dataset)\n",
        "print(\"Done!\")"
      ]
    },
    {
      "cell_type": "code",
      "execution_count": null,
      "metadata": {},
      "outputs": [
        {
          "name": "stdout",
          "output_type": "stream",
          "text": [
            "torch.Size([10, 10])\n"
          ]
        }
      ],
      "source": [
        "a = theta # (784, 10)\n",
        "b = model.class_averages # (10, 784)\n",
        "\n",
        "c = b @ a\n",
        "print(c.shape)"
      ]
    },
    {
      "cell_type": "code",
      "execution_count": 25,
      "metadata": {},
      "outputs": [
        {
          "data": {
            "image/png": "[encoded data removed]",
            "text/plain": [
              "<Figure size 640x480 with 1 Axes>"
            ]
          },
          "metadata": {},
          "output_type": "display_data"
        }
      ],
      "source": [
        "plt.imshow(c.softmax(dim=-1).detach().numpy())\n",
        "plt.show()"
      ]
    },
    {
      "cell_type": "code",
      "execution_count": null,
      "metadata": {},
      "outputs": [
        {
          "name": "stdout",
          "output_type": "stream",
          "text": [
            "Test accuracy: 82.4%\n"
          ]
        }
      ],
      "source": [
        "# See test accuracy\n",
        "test_loader = DataLoader(test_dataset, batch_size=512, shuffle=False)\n",
        "model.eval()\n",
        "with torch.no_grad():\n",
        "    total, correct = 0, 0\n",
        "    for images, labels in test_loader:\n",
        "        outputs = model(images, sim_type='cosine')\n",
        "        _, predicted = outputs.max(1)\n",
        "        total += labels.size(0)\n",
        "        correct += predicted.eq(labels).sum().item()\n",
        "\n",
        "print(f\"Test accuracy: {100 * correct / total}%\")"
      ]
    },
    {
      "cell_type": "code",
      "execution_count": null,
      "metadata": {},
      "outputs": [],
      "source": []
    }
  ],
  "metadata": {
    "kernelspec": {
      "display_name": "Python 3",
      "language": "python",
      "name": "python3"
    },
    "language_info": {
      "codemirror_mode": {
        "name": "ipython",
        "version": 3
      },
      "file_extension": ".py",
      "mimetype": "text/x-python",
      "name": "python",
      "nbconvert_exporter": "python",
      "pygments_lexer": "ipython3",
      "version": "3.11.9"
    }
  },
  "nbformat": 4,
  "nbformat_minor": 2
}
