{
 "cells": [
  {
   "cell_type": "markdown",
   "id": "d6af43c3",
   "metadata": {},
   "source": [
    "# Guide to Machine Learning\n",
    "\n",
    "This document serves as a guide for researchers getting started with machine learning, designed by and for the [Gleghorn Lab](https://www.gleghornlab.com). It is a work in progress document. Please open a GitHub issue or reach out to Logan Hallee - lhallee@udel.edu - with questions. If you'd like to add to, fix, or improve any of the content please open a pull request."
   ]
  },
  {
   "cell_type": "code",
   "execution_count": 8,
   "id": "6c0f3c42",
   "metadata": {},
   "outputs": [],
   "source": [
    "import warnings\n",
    "warnings.filterwarnings('ignore')"
   ]
  },
  {
   "cell_type": "markdown",
   "id": "9f731272",
   "metadata": {},
   "source": [
    "## Getting started (this is in the `README.md` as well)"
   ]
  },
  {
   "cell_type": "markdown",
   "id": "ce65c505",
   "metadata": {},
   "source": [
    "### What is Machine Learning\n",
    "\n",
    "Machine learning (ML) is primarily the use of data to fit or train an algorithm to describe that “type” of data generally. It’s called Machine *Learning* because there are often numerical parameters that are adjusted (*learned*) throughout an optimization scheme. It is best to resort to ML when\n",
    "\n",
    "- the underlying physical process behind the data is unknown, complicated, or not directly computable\n",
    "- there are many examples of this process to train a model with\n",
    "\n",
    "Importantly\n",
    "\n",
    "- ML can be used to build predictive models from data\n",
    "- ML can be used to classify or describe inputs\n",
    "- ML can be used to condense and process data\n",
    "- ML can identify key features from your data and guide your hypotheses generation\n",
    "- ML can generalize complicated physical processes that are (currently) impossible to simulate fully\n",
    "\n",
    "However, ML is a very broad discipline; *there is no one-size-fits-all model*. Various algorithms are designed to make predictions or decisions based on input data and the output is scored to better inform the model in the future.  Some ML methods have closed-form solutions, some learn through strategic trial and error, and others can be guided by gradient descent. Regardless of the model, more data is generally better.\n",
    "\n",
    "Thus, if \n",
    "\n",
    "- there is not much available data\n",
    "- synthetic data cannot be generated or is not useful\n",
    "- the physical underlying process is well understood and computable\n",
    "\n",
    "[ML might not be the best approach for the problem](https://docs.aws.amazon.com/machine-learning/latest/dg/when-to-use-machine-learning.html).\n",
    "\n",
    "### What should I learn to start?\n",
    "\n",
    "#### Some Math / Statistics\n",
    "\n",
    "Key concepts\n",
    "- Derivatives, gradients\n",
    "- Vector and Matrix operations\n",
    "    - Matrix manipulation\n",
    "    - indexing, slicing, know that matrix sizes are described by (`number of rows` x `number of columns`)\n",
    "- Descriptive statistics\n",
    "    - mean, median, mode, standard deviation, etc.\n",
    "- Popular metrics\n",
    "    - Precision, Recall, Accuracy, F1, MCC, etc.\n",
    "- Basic probability theory\n",
    "    - Expected value, variance\n",
    "- Error, bias and variance tradeoff\n",
    "- Distributions\n",
    "    - discrete, continuous, central limit theorem\n",
    "- A grasp on “dimensions”\n",
    "- Data as features\n",
    "\n",
    "**The introductions and details below will make much more sense with a familiarity of these concepts.**\n",
    "\n",
    "### Python\n",
    "\n",
    "Python is a popular programming language for ML due to its ease of use, a large selection of libraries and frameworks specifically designed for ML, and its ability to integrate with other languages such as C++ and R. An ML engineer will use many packages throughout a project\n",
    "\n",
    "#### Installing Interpreters / Virtual Environments\n",
    "\n",
    "**PyCharm or VS Code**\n",
    "\n",
    "An Integrated Development Environment (IDE), is where the “magic” happens. Basically applications for your computer that allow you to code and run python code on your computer alongside helpful suggestions and features. The two most popular interpreters for Python are historically PyCharm and Virtual Studio (VS) code. The pros and cons are summarized nicely in [this blog post](https://blog.logrocket.com/pycharm-vs-vscode/).\n",
    "\n",
    "In general, VSCode Python features have become so good there is almost no reason to use PyCharm anymore. You can run Python and Jupyter notebooks right in VSCode, and it has many nice plugins.\n",
    "\n",
    "Installing:\n",
    "\n",
    "[Python in VS Code](https://code.visualstudio.com/docs/python/python-tutorial)\n",
    "\n",
    "[PyCharm](https://www.jetbrains.com/help/pycharm/quick-start-guide.html)\n",
    "\n",
    "For setting up virtual environments (typical for High Performance Computing (HPC)), please reference our [DARWIN HPC SOP](https://docs.google.com/document/d/1QG7MyYw2MbCQFI2O2_FrrwBS3CF0qHV5dMFMeeIHKK4/edit?usp=sharing).\n",
    "\n",
    "**Cursor**\n",
    "\n",
    "Nowadays there are fancier versions of VS code with AI integrations, like auto complete or chatting right in the IDE. You can also install the Github copilot (free for students) plugin to native VS code to approximate this. If you have a few bucks extra to spend each month, and code a lot, these features like autocomplete can be extremely helpful when typing out repeated sections or print statements."
   ]
  },
  {
   "cell_type": "markdown",
   "id": "745a9659",
   "metadata": {},
   "source": [
    "### Types of Hardware\n",
    "\n",
    "An ML engineer's main partner in crime is their computer. Computers consist of several components, each with its own role in the functioning of the system. Here is a brief summary of some of the most important components and their relationship to each other:\n",
    "\n",
    "1. CPU (Central Processing Unit) - This is the brain of the computer and is responsible for executing instructions. It performs the bulk of the computational tasks and coordinates the work of other components.\n",
    "\n",
    "2. GPU (Graphics Processing Unit) - This is a specialized processor designed to handle graphics and video tasks. It offloads some of the processing tasks from the CPU, making it possible to handle more complex graphics. GPU's are particularly useful for ML tasks because they are optimized for performing the same calculations repeatedly in parallel, which is a common characteristic of many ML algorithms. This allows for much faster training times for models compared to using just the CPU. \n",
    "\n",
    "<img src=\"assets/cpu_gpu_schematic.png\">\n",
    "\n",
    "https://www.mathworks.com/company/newsletters/articles/gpu-programming-in-matlab.html\n",
    "\n",
    "3. Hard Drive - This is the primary storage component of the computer. It stores data and program files that are not currently in use.\n",
    "4. VRAM (Video Random Access Memory) - This is the memory on a graphics card that stores data for rendering images on the screen. It is faster and more efficient than regular RAM for graphics tasks.\n",
    "5. RAM (Random Access Memory) - This is the primary memory of the computer and used for temporarily storing data and instructions that are currently in use. RAM is much faster than hard drive storage but less expensive than VRAM.\n",
    "6. Cache - This is a small amount of memory that is used to store frequently used data, making it quickly accessible to the CPU. It helps to speed up processing times.\n",
    "7. Registry - This is a database that stores configuration settings and options for the operating system and applications. It is used to keep track of all the software installed on the computer and their settings.\n",
    "\n",
    "The hierarchy of memory starts with the CPU cache, which is the fastest but smallest storage unit. Then, it moves on to RAM, which is larger but slower than cache. The hard drive is even larger but slower than RAM, and VRAM is faster than both RAM and hard drive but smaller in size.\n",
    "\n",
    "\n",
    "<img src=\"assets/memory_stack.png\">\n",
    "\n",
    "https://www.seeedstudio.com/blog/2020/11/25/types-of-computer-memory-ram-rom-and-secondary-memory/\n",
    "\n",
    "\n",
    "Optimizing these systems to work together involves maximizing the amount of data that can be stored in the cache and RAM, minimizing the number of times data must be accessed from the hard drive or VRAM, and ensuring that all components are working efficiently. This can be achieved through techniques such as memory management, data caching, and optimizing algorithms and software for the specific hardware architecture of the computer; some of which are discussed below.\n",
    "\n",
    "Additionally, there is a specialized resource for ML called TPUs. TPUs, or Tensor Processing Units, are specialized hardware accelerators developed by Google. They are designed to efficiently perform the matrix operations that are central to deep learning computations. TPUs are optimized for Google's TensorFlow framework and can provide significant speedup over traditional CPUs or GPUs, particularly for large-scale ML tasks. While TPUs are phenomenally fast in niche conditions, GPUs are by far the more extensive resource for training ML models. It is possible that TPUs will gain some popularity in the future, so it is good to be aware of them. However, as someone new to ML do not worry about utilizing them.\n",
    "\n"
   ]
  },
  {
   "cell_type": "markdown",
   "id": "1cea4986",
   "metadata": {},
   "source": [
    "### Learning resources\n",
    "\n",
    "A compilation of resources that give a foundation of data science knowledge in general. There is a fairly detailed description of concepts that current projects in the lab use below, but are bound to be confusing to people new to ML. Please use these resources as needed to make concepts more understandable. There is no expectation for going through a certain amount of these to start ML projects in the lab, but the more general data science concepts you know the more intuitive ML becomes and the better ML engineer you will be.\n",
    "\n",
    "#### **High-Level**\n",
    "\n",
    "Python script with basic components, click to view in browser\n",
    "\n",
    "[intro_to_python.py](https://s3-us-west-2.amazonaws.com/secure.notion-static.com/6a163c46-d8d4-477a-8fef-4a3dd014a480/intro_to_python.py)\n",
    "\n",
    "Beginner Python, approximately equivalent to **BINF690 Programming for Bioinformatics**\n",
    "\n",
    "[Learn Python - Full Course for Beginners [Tutorial]](https://www.youtube.com/watch?v=rfscVS0vtbw)\n",
    "\n",
    "Stat Quest is a channel with well-received overviews of data science, statistics, and ML concepts\n",
    "\n",
    "[StatQuest with Josh Starmer](https://www.youtube.com/@statquest)\n",
    "\n",
    "Summary of Calculus Video, for touching up on calculus concepts\n",
    "\n",
    "[Understand Calculus in 35 Minutes](https://www.youtube.com/watch?v=WsQQvHm4lSw)\n",
    "\n",
    "Professors Dave’s linear algebra series is a great overview and put in much simpler terms than Dr. Strang's below, probably more friendly to people without an extensive math background if needing to touch upon specific topics regarding vectors and matrices\n",
    "\n",
    "[Linear Algebra](https://www.youtube.com/playlist?list=PLybg94GvOJ9En46TNCXL2n6SiqRc_iMB8)\n",
    "\n",
    "Jay Alammar’s blog is **legendary** for his insightful visualizations and beginner-friendly wording\n",
    "\n",
    "[Jay Alammar – Visualizing machine learning one concept at a time.](https://jalammar.github.io/)\n",
    "\n",
    "#### **In-Depth**\n",
    "\n",
    "MIT Open Courseware Linear Algebra courses - **Dr. Gilbert Strang is the GOAT linear algebra professor**, but requires decent mathematical background\n",
    "\n",
    "[MIT 18.06SC Linear Algebra, Fall 2011](https://www.youtube.com/playlist?list=PL221E2BBF13BECF6C)\n",
    "\n",
    "[MIT 18.065 Matrix Methods in Data Analysis, Signal Processing, and Machine Learning, Spring 2018](https://www.youtube.com/playlist?list=PLUl4u3cNGP63oMNUHXqIUcrkS2PivhN3k)\n",
    "\n",
    "[A 2020 Vision of Linear Algebra, Spring 2020](https://www.youtube.com/playlist?list=PLUl4u3cNGP61iQEFiWLE21EJCxwmWvvek)\n",
    "\n",
    "**MIT Open Courseware** also offers a variety of courses in the ML space, as well as a ton of math courses for those needing to dive deeper into subjects like calculus\n",
    "\n",
    "[Search | MIT OpenCourseWare | Free Online Course Materials](https://ocw.mit.edu/search/?q=machine+learning)\n",
    "\n",
    "Excellent linear algebra series for visual learners by 3Blue1Brown\n",
    "\n",
    "[Essence of linear algebra](https://www.youtube.com/playlist?list=PLZHQObOWTQDPD3MizzM2xVFitgF8hE_ab)\n",
    "\n",
    "[Francois Fleuret’s](https://fleuret.org/francois/) deep learning slides and lectures. **These are really really good!**\n",
    "\n",
    "[UNIGE 14x050 – Deep Learning](https://fleuret.org/dlc/)"
   ]
  },
  {
   "cell_type": "markdown",
   "id": "f24b9954",
   "metadata": {},
   "source": [
    "## Python Packages"
   ]
  },
  {
   "cell_type": "markdown",
   "id": "e717d67e",
   "metadata": {},
   "source": [
    "[Pip](https://pypi.org/project/pip/)\n",
    "\n",
    "**Pip** is Python’s most popular package manager, essential for installing, upgrading, and managing libraries (and their dependencies) in your machine learning environment. It is bundled with Python 3.4+ and is also available for older versions.\n",
    "\n",
    "### Key Features\n",
    "\n",
    "- **Simple Installation:** Install any package from the [Python Package Index (PyPI)](https://pypi.org/).\n",
    "- **Dependency Management:** Automatically handles package dependencies.\n",
    "- **Version Control:** Easily upgrade or downgrade packages.\n",
    "- **Requirements Files:** Recreate environments or share dependencies using a text file.\n",
    "\n",
    "\n",
    "### Basic Commands\n",
    "\n",
    "- **Install a Package:**\n",
    "    \n",
    "    ```bash\n",
    "    pip install package_name\n",
    "    \n",
    "    ```\n",
    "    \n",
    "- **Upgrade a Package:**\n",
    "    \n",
    "    ```bash\n",
    "    pip install package_name --upgrade\n",
    "    \n",
    "    ```\n",
    "    \n",
    "- **Install from a Requirements File:**\n",
    "    \n",
    "    ```bash\n",
    "    pip install -r requirements.txt\n",
    "    \n",
    "    ```\n",
    "    \n",
    "- **Freeze Installed Packages:**\n",
    "    \n",
    "    Generate a list of installed packages and their versions (useful for creating a `requirements.txt`):\n",
    "    \n",
    "    ```bash\n",
    "    pip freeze > requirements.txt\n",
    "    \n",
    "    ```\n",
    "    \n",
    "\n",
    "*Example: Installing and Upgrading NumPy*\n",
    "\n",
    "```bash\n",
    "# Install NumPy\n",
    "pip install numpy\n",
    "\n",
    "# Later, upgrade to the latest version\n",
    "pip install numpy --upgrade # or -U\n",
    "\n",
    "```"
   ]
  },
  {
   "cell_type": "markdown",
   "id": "436ac924",
   "metadata": {},
   "source": [
    "In Python notebooks like this, you can access your terminal for pip or other code in a code cell\n",
    "```bash\n",
    "pip install numpy -U\n",
    "```\n",
    "In some IDEs, you will need to use the ! character to run terminal commands\n",
    "```bash\n",
    "!pip install numpy -U\n",
    "```\n",
    "In most IDEs, the cell will need to only have terminal code in it, otherwise it will try and run it with Python and error out\n",
    "For example:"
   ]
  },
  {
   "cell_type": "code",
   "execution_count": 9,
   "id": "3be97794",
   "metadata": {},
   "outputs": [
    {
     "ename": "SyntaxError",
     "evalue": "invalid syntax (4011892602.py, line 2)",
     "output_type": "error",
     "traceback": [
      "\u001b[1;36m  Cell \u001b[1;32mIn[9], line 2\u001b[1;36m\u001b[0m\n\u001b[1;33m    pip install numpy==1.26.4\u001b[0m\n\u001b[1;37m        ^\u001b[0m\n\u001b[1;31mSyntaxError\u001b[0m\u001b[1;31m:\u001b[0m invalid syntax\n"
     ]
    }
   ],
   "source": [
    "# This comment makes this cell a Python cell\n",
    "pip install numpy==1.26.4"
   ]
  },
  {
   "cell_type": "code",
   "execution_count": 10,
   "id": "25161b57",
   "metadata": {},
   "outputs": [
    {
     "name": "stdout",
     "output_type": "stream",
     "text": [
      "Requirement already satisfied: numpy==1.26.4 in c:\\users\\lhall\\appdata\\local\\programs\\python\\python311\\lib\\site-packages (1.26.4)\n",
      "Note: you may need to restart the kernel to use updated packages.\n"
     ]
    },
    {
     "name": "stderr",
     "output_type": "stream",
     "text": [
      "\n",
      "[notice] A new release of pip is available: 24.1.2 -> 25.2\n",
      "[notice] To update, run: python.exe -m pip install --upgrade pip\n"
     ]
    }
   ],
   "source": [
    "pip install numpy==1.26.4"
   ]
  },
  {
   "cell_type": "markdown",
   "id": "14b68249",
   "metadata": {},
   "source": [
    "#### [NumPy](https://numpy.org/)\n",
    "\n",
    "**NumPy** provides support for large, multi-dimensional arrays and matrices, along with a suite of mathematical functions. It is the backbone of many scientific computing and ML applications.\n",
    "\n",
    "### Why Use NumPy?\n",
    "\n",
    "- **Efficient Computations:** Vectorized operations are much faster than Python loops.\n",
    "- **Broad Ecosystem:** Many ML libraries (like SciPy and scikit-learn) are built on top of NumPy.\n",
    "- **Rich Functionality:** Offers extensive support for linear algebra, statistical operations, and more.\n",
    "\n",
    "Example: Array Operations"
   ]
  },
  {
   "cell_type": "code",
   "execution_count": 11,
   "id": "3a142c46",
   "metadata": {},
   "outputs": [
    {
     "name": "stdout",
     "output_type": "stream",
     "text": [
      "Sum: [5 7 9]\n",
      "Dot Product: 32\n",
      "Original Matrix:\n",
      " [[1 2 3]\n",
      " [4 5 6]]\n",
      "Transposed Matrix:\n",
      " [[1 4]\n",
      " [2 5]\n",
      " [3 6]]\n"
     ]
    }
   ],
   "source": [
    "import numpy as np\n",
    "\n",
    "# Create two 1D arrays\n",
    "a = np.array([1, 2, 3])\n",
    "b = np.array([4, 5, 6])\n",
    "\n",
    "# Element-wise addition\n",
    "print(\"Sum:\", a + b)\n",
    "\n",
    "# Dot product\n",
    "print(\"Dot Product:\", np.dot(a, b))\n",
    "\n",
    "# Create a 2D array and compute its transpose\n",
    "matrix = np.array([[1, 2, 3], [4, 5, 6]])\n",
    "print(\"Original Matrix:\\n\", matrix)\n",
    "print(\"Transposed Matrix:\\n\", matrix.T)"
   ]
  },
  {
   "cell_type": "code",
   "execution_count": 12,
   "id": "f743123e",
   "metadata": {},
   "outputs": [
    {
     "name": "stdout",
     "output_type": "stream",
     "text": [
      "Mean: 0.01830039276929005\n",
      "Standard Deviation: 1.013246095141424\n",
      "Median: 0.04085010686265354\n",
      "Array 1D shape: (3,)\n",
      "Array 2D shape: (2, 3)\n",
      "Array 3D shape: (2, 1, 3)\n",
      "Array 3D squeezed shape: (2, 3)\n",
      "Array 2D expanded 0 shape: (1, 2, 3)\n",
      "Array 2D expanded 1 shape: (2, 1, 3)\n",
      "Array 2D expanded 2 shape: (2, 3, 1)\n",
      "Broadcasted array shape: (2, 3)\n",
      "Elementwise multiplication shape: (2, 2)\n",
      "Matrix multiplication shape: (2, 2)\n"
     ]
    }
   ],
   "source": [
    "### Example: Generating Random Numbers and a Statistcal Summary\n",
    "\n",
    "# Generate a 1000-element array of random numbers from a normal distribution\n",
    "data = np.random.randn(1000)\n",
    "\n",
    "# Compute basic statistics\n",
    "print(\"Mean:\", np.mean(data))\n",
    "print(\"Standard Deviation:\", np.std(data))\n",
    "print(\"Median:\", np.median(data))\n",
    "\n",
    "### Example: Manipulating numpy arrays\n",
    "\n",
    "arr_1D = np.array([1,2,3])\n",
    "print(f'Array 1D shape: {arr_1D.shape}') # (3,)\n",
    "\n",
    "arr_2D = np.array([[1,2,3], [4,5,6]]) # 2 sets of brackets for 2D\n",
    "print(f'Array 2D shape: {arr_2D.shape}') # (2,3)\n",
    "\n",
    "arr_3D = np.array([[[1,2,3]], [[4,5,6]]])\n",
    "print(f'Array 3D shape: {arr_3D.shape}') # (2,1,3) # dim 1 has 2 subarrays, each subarray has 1 row, each row has 3 elements.\n",
    "\t\t\t\t\t\t\t\t\t\t\t\t\t # This results in a 3D array with a singleton dimension\n",
    "\n",
    "# Squeeze: Remove dimensions of size 1\n",
    "arr_3D_squeezed = np.squeeze(arr_3D)\n",
    "print(f'Array 3D squeezed shape: {arr_3D_squeezed.shape}') # (2,3) Now the array looks like this: ([[1,2,3], [4,5,6]])\n",
    "\n",
    "# Expand dims: Add a new axis (could be useful when you need to simulate a batch dimension)\n",
    "# Let's take our 2D array\n",
    "\n",
    "expanded_0 = np.expand_dims(arr_2D, axis=0)\n",
    "print(f'Array 2D expanded 0 shape: {expanded_0.shape}') # (2,3) ---> (1,2,3)\n",
    "\n",
    "expanded_1 = np.expand_dims(arr_2D, axis=1)\n",
    "print(f'Array 2D expanded 1 shape: {expanded_1.shape}') # (2,3) ---> (2,1,3)\n",
    "\n",
    "expanded_2 = np.expand_dims(arr_2D, axis=2)\n",
    "print(f'Array 2D expanded 2 shape: {expanded_2.shape}') # (2,3) ---> (2,3,1)\n",
    "\n",
    "\n",
    "### Example: Different operations with numpy arrays\n",
    "\n",
    "# Broadcasting\n",
    "\n",
    "a = np.array([[1, 2, 3], \n",
    "              [4, 5, 6]]) # 2D\n",
    "b = np.array([1, 0, 1]) # 1D\n",
    "\n",
    "broadcast = a + b\n",
    "print(f'Broadcasted array shape: {broadcast.shape}') # (2,3)\n",
    "# Element-wise multiplication vs MatMul\n",
    "\n",
    "a_mat = np.array([[1, 2],\n",
    "                  [3, 4]])\n",
    "b_mat = np.array([[5, 6],\n",
    "                  [7, 8]])\n",
    "\n",
    "elementwise_multiplication = a_mat * b_mat\n",
    "print(f'Elementwise multiplication shape: {elementwise_multiplication.shape}') # (2,2)\n",
    "matrix_multiplication = a_mat @ b_mat   # or use np.dot\n",
    "print(f'Matrix multiplication shape: {matrix_multiplication.shape}') # (2,2)"
   ]
  },
  {
   "cell_type": "markdown",
   "id": "f0b52a46",
   "metadata": {},
   "source": [
    "#### [Pandas](https://pandas.pydata.org/)\n",
    "\n",
    "**Pandas** is the go-to library for data manipulation and analysis. It introduces intuitive data structures like **DataFrames** and **Series**, which simplify the process of cleaning, transforming, and analyzing data.\n",
    "\n",
    "### Core Concepts\n",
    "\n",
    "- **DataFrame:** A two-dimensional, size-mutable, and heterogeneous data structure.\n",
    "- **Series:** A one-dimensional labeled array capable of holding any data type."
   ]
  },
  {
   "cell_type": "code",
   "execution_count": 13,
   "id": "a8c99725",
   "metadata": {},
   "outputs": [
    {
     "name": "stdout",
     "output_type": "stream",
     "text": [
      "   label  1x1  1x2  1x3  1x4  1x5  1x6  1x7  1x8  1x9  ...  28x19  28x20  \\\n",
      "0      7    0    0    0    0    0    0    0    0    0  ...      0      0   \n",
      "1      2    0    0    0    0    0    0    0    0    0  ...      0      0   \n",
      "2      1    0    0    0    0    0    0    0    0    0  ...      0      0   \n",
      "3      0    0    0    0    0    0    0    0    0    0  ...      0      0   \n",
      "4      4    0    0    0    0    0    0    0    0    0  ...      0      0   \n",
      "\n",
      "   28x21  28x22  28x23  28x24  28x25  28x26  28x27  28x28  \n",
      "0      0      0      0      0      0      0      0      0  \n",
      "1      0      0      0      0      0      0      0      0  \n",
      "2      0      0      0      0      0      0      0      0  \n",
      "3      0      0      0      0      0      0      0      0  \n",
      "4      0      0      0      0      0      0      0      0  \n",
      "\n",
      "[5 rows x 785 columns]\n",
      "              label      1x1      1x2      1x3      1x4      1x5      1x6  \\\n",
      "count  10000.000000  10000.0  10000.0  10000.0  10000.0  10000.0  10000.0   \n",
      "mean       4.443400      0.0      0.0      0.0      0.0      0.0      0.0   \n",
      "std        2.895865      0.0      0.0      0.0      0.0      0.0      0.0   \n",
      "min        0.000000      0.0      0.0      0.0      0.0      0.0      0.0   \n",
      "25%        2.000000      0.0      0.0      0.0      0.0      0.0      0.0   \n",
      "50%        4.000000      0.0      0.0      0.0      0.0      0.0      0.0   \n",
      "75%        7.000000      0.0      0.0      0.0      0.0      0.0      0.0   \n",
      "max        9.000000      0.0      0.0      0.0      0.0      0.0      0.0   \n",
      "\n",
      "           1x7      1x8      1x9  ...         28x19         28x20  \\\n",
      "count  10000.0  10000.0  10000.0  ...  10000.000000  10000.000000   \n",
      "mean       0.0      0.0      0.0  ...      0.179300      0.163600   \n",
      "std        0.0      0.0      0.0  ...      5.674149      5.736072   \n",
      "min        0.0      0.0      0.0  ...      0.000000      0.000000   \n",
      "25%        0.0      0.0      0.0  ...      0.000000      0.000000   \n",
      "50%        0.0      0.0      0.0  ...      0.000000      0.000000   \n",
      "75%        0.0      0.0      0.0  ...      0.000000      0.000000   \n",
      "max        0.0      0.0      0.0  ...    253.000000    253.000000   \n",
      "\n",
      "              28x21       28x22    28x23    28x24    28x25    28x26    28x27  \\\n",
      "count  10000.000000  10000.0000  10000.0  10000.0  10000.0  10000.0  10000.0   \n",
      "mean       0.052600      0.0006      0.0      0.0      0.0      0.0      0.0   \n",
      "std        2.420004      0.0600      0.0      0.0      0.0      0.0      0.0   \n",
      "min        0.000000      0.0000      0.0      0.0      0.0      0.0      0.0   \n",
      "25%        0.000000      0.0000      0.0      0.0      0.0      0.0      0.0   \n",
      "50%        0.000000      0.0000      0.0      0.0      0.0      0.0      0.0   \n",
      "75%        0.000000      0.0000      0.0      0.0      0.0      0.0      0.0   \n",
      "max      156.000000      6.0000      0.0      0.0      0.0      0.0      0.0   \n",
      "\n",
      "         28x28  \n",
      "count  10000.0  \n",
      "mean       0.0  \n",
      "std        0.0  \n",
      "min        0.0  \n",
      "25%        0.0  \n",
      "50%        0.0  \n",
      "75%        0.0  \n",
      "max        0.0  \n",
      "\n",
      "[8 rows x 785 columns]\n"
     ]
    }
   ],
   "source": [
    "### Example: loading and inspecting data\n",
    "import pandas as pd\n",
    "\n",
    "# Load a CSV file into a DataFrame\n",
    "data_file = 'data/mnist_test_set.csv'\n",
    "df = pd.read_csv(data_file)\n",
    "\n",
    "# Display the first five rows\n",
    "print(df.head())\n",
    "\n",
    "# Summary statistics of numerical columns\n",
    "print(df.describe())"
   ]
  },
  {
   "cell_type": "code",
   "execution_count": 14,
   "id": "ec44e08f",
   "metadata": {},
   "outputs": [
    {
     "name": "stdout",
     "output_type": "stream",
     "text": [
      "Length of df: 10000, length of filtered_df: 1135\n"
     ]
    }
   ],
   "source": [
    "### Example: Data filtering and selection\n",
    "\n",
    "filtered_df = df[df['label'] == 1]\n",
    "print(f'Length of df: {len(df)}, length of filtered_df: {len(filtered_df)}')"
   ]
  },
  {
   "cell_type": "markdown",
   "id": "e351dda9",
   "metadata": {},
   "source": [
    "#### [Matplotlib](https://matplotlib.org/)\n",
    "\n",
    "**Matplotlib** is a versatile plotting library that lets you create a wide range of static, animated, and interactive visualizations. It’s an indispensable tool for data exploration and presentation in ML projects."
   ]
  },
  {
   "cell_type": "code",
   "execution_count": 15,
   "id": "33e174f9",
   "metadata": {},
   "outputs": [
    {
     "data": {
      "image/png": "[encoded data removed]",
      "text/plain": [
       "<Figure size 800x400 with 1 Axes>"
      ]
     },
     "metadata": {},
     "output_type": "display_data"
    }
   ],
   "source": [
    "import matplotlib.pyplot as plt\n",
    "import numpy as np\n",
    "\n",
    "# Create data for plotting\n",
    "x = np.linspace(0, 10, 100)\n",
    "y = np.sin(x)\n",
    "\n",
    "# Create the plot\n",
    "plt.figure(figsize=(8, 4))\n",
    "plt.plot(x, y, label='Sine Wave', color='blue', linewidth=2)\n",
    "plt.title(\"Sine Wave Example\")\n",
    "plt.xlabel(\"X Axis\")\n",
    "plt.ylabel(\"Y Axis\")\n",
    "plt.legend()\n",
    "plt.grid(True)\n",
    "plt.show()"
   ]
  },
  {
   "cell_type": "markdown",
   "id": "db4cd084",
   "metadata": {},
   "source": [
    "- **Customization:** Matplotlib supports annotations, custom markers, and multiple subplots.\n",
    "- **Exporting Plots:** Easily save figures to file formats like PNG, PDF, or SVG:"
   ]
  },
  {
   "cell_type": "code",
   "execution_count": 16,
   "id": "1f7ca9c0",
   "metadata": {},
   "outputs": [
    {
     "data": {
      "text/plain": [
       "<Figure size 640x480 with 0 Axes>"
      ]
     },
     "metadata": {},
     "output_type": "display_data"
    }
   ],
   "source": [
    "# Example: Saving your plot\n",
    "plt.savefig('saved_images/sine_wave.png')"
   ]
  },
  {
   "cell_type": "code",
   "execution_count": 17,
   "id": "ad7a51f8",
   "metadata": {},
   "outputs": [
    {
     "name": "stdout",
     "output_type": "stream",
     "text": [
      "Shape of numpy array: (784,)\n"
     ]
    },
    {
     "data": {
      "image/png": "[encoded data removed]",
      "text/plain": [
       "<Figure size 640x480 with 1 Axes>"
      ]
     },
     "metadata": {},
     "output_type": "display_data"
    },
    {
     "data": {
      "text/plain": [
       "<Figure size 640x480 with 0 Axes>"
      ]
     },
     "metadata": {},
     "output_type": "display_data"
    }
   ],
   "source": [
    "# Example: Visualizing our example data (MNIST)\n",
    "\n",
    "# 1 row of df\n",
    "row = df.iloc[0]\n",
    "values_in_row = row.values[1:] # the first value is the label\n",
    "label = row.values[0]\n",
    "to_numpy = np.array(values_in_row)\n",
    "print(f'Shape of numpy array: {to_numpy.shape}')\n",
    "to_square = to_numpy.reshape(28,28)\n",
    "# Visualize with matplotlib\n",
    "plt.imshow(to_square, cmap='gray')\n",
    "plt.title(f'Example: MNIST Data, Label: {label}')\n",
    "plt.show() # this prints the plot\n",
    "plt.savefig('saved_images/mnist_test_0.png')"
   ]
  },
  {
   "cell_type": "markdown",
   "id": "dcd62c55",
   "metadata": {},
   "source": [
    "#### [SciPy](https://scipy.org/)\n",
    "\n",
    "**SciPy** builds upon NumPy by providing additional functionality for scientific and technical computing. It includes modules for optimization, integration, interpolation, signal and image processing, and more."
   ]
  },
  {
   "cell_type": "code",
   "execution_count": 18,
   "id": "fa5b4e4a",
   "metadata": {},
   "outputs": [
    {
     "name": "stdout",
     "output_type": "stream",
     "text": [
      "Integral of x^2 from 0 to 1: 0.33333333333333337\n"
     ]
    }
   ],
   "source": [
    "# Example: Numerical integration\n",
    "from scipy import integrate\n",
    "\n",
    "# Define a simple function to integrate\n",
    "def f(x):\n",
    "    return x ** 2\n",
    "\n",
    "# Compute the integral of f from 0 to 1\n",
    "result, error = integrate.quad(f, 0, 1)\n",
    "print(\"Integral of x^2 from 0 to 1:\", result)"
   ]
  },
  {
   "cell_type": "code",
   "execution_count": 19,
   "id": "93a98ce9",
   "metadata": {},
   "outputs": [
    {
     "name": "stdout",
     "output_type": "stream",
     "text": [
      "Solution: [0.  2.5]\n"
     ]
    }
   ],
   "source": [
    "# Example: Solving a linear system\n",
    "import numpy as np\n",
    "from scipy import linalg\n",
    "\n",
    "# Coefficient matrix and right-hand side\n",
    "A = np.array([[3, 2], [1, 2]])\n",
    "b = np.array([5, 5])\n",
    "\n",
    "# Solve for x in Ax = b\n",
    "x = linalg.solve(A, b)\n",
    "print(\"Solution:\", x)"
   ]
  },
  {
   "cell_type": "markdown",
   "id": "8813113f",
   "metadata": {},
   "source": [
    "#### [Scikit-Learn](https://scikit-learn.org/stable/)\n",
    "\n",
    "**Scikit-Learn** is a robust library offering a wide range of machine learning algorithms and tools for data preprocessing, model selection, and evaluation. It is built on NumPy, SciPy, and Matplotlib, and emphasizes ease of use."
   ]
  },
  {
   "cell_type": "code",
   "execution_count": 20,
   "id": "7b7d1a7b",
   "metadata": {},
   "outputs": [
    {
     "name": "stdout",
     "output_type": "stream",
     "text": [
      "X_train shape: (105, 4), X_test shape: (45, 4), y_train shape: (105,), y_test shape: (45,)\n",
      "Number of unique labels: 3\n",
      "Accuracy: 1.0\n"
     ]
    }
   ],
   "source": [
    "### Example: Training a logistic regression classifier on the Iris dataset\n",
    "\n",
    "from sklearn import datasets\n",
    "from sklearn.model_selection import train_test_split\n",
    "from sklearn.preprocessing import StandardScaler\n",
    "from sklearn.linear_model import LogisticRegression\n",
    "from sklearn.metrics import accuracy_score\n",
    "\n",
    "# Load the Iris dataset\n",
    "iris = datasets.load_iris()\n",
    "X, y = iris.data, iris.target\n",
    "\n",
    "# Split into training and testing sets\n",
    "X_train, X_test, y_train, y_test = train_test_split(X, y, test_size=0.3, random_state=42)\n",
    "print(f'X_train shape: {X_train.shape}, X_test shape: {X_test.shape}, y_train shape: {y_train.shape}, y_test shape: {y_test.shape}')\n",
    "print(f'Number of unique labels: {len(np.unique(y))}')\n",
    "\n",
    "# Standardize features\n",
    "scaler = StandardScaler()\n",
    "X_train_scaled = scaler.fit_transform(X_train)\n",
    "X_test_scaled = scaler.transform(X_test)\n",
    "\n",
    "# Initialize and train the classifier\n",
    "model = LogisticRegression(max_iter=200)\n",
    "model.fit(X_train_scaled, y_train)\n",
    "\n",
    "# Evaluate the model\n",
    "y_pred = model.predict(X_test_scaled)\n",
    "print(\"Accuracy:\", accuracy_score(y_test, y_pred))\n"
   ]
  },
  {
   "cell_type": "markdown",
   "id": "a9ba2a26",
   "metadata": {},
   "source": [
    "Additional Features\n",
    "\n",
    "- **Pipelines:** Combine preprocessing and modeling steps.\n",
    "- **Cross-Validation:** Easily assess model performance with built-in cross-validation tools.\n",
    "- **Metrics:** A variety of metrics to evaluate classification, regression, clustering, and more."
   ]
  },
  {
   "cell_type": "markdown",
   "id": "c3fd5f89",
   "metadata": {},
   "source": [
    "#### [TensorFlow](https://www.tensorflow.org/)\n",
    "\n",
    "**TensorFlow** is a powerful framework for building and training machine learning models, developed by Google. It supports distributed computing, GPU acceleration, and offers high-level APIs (like Keras) for rapid model development."
   ]
  },
  {
   "cell_type": "code",
   "execution_count": 21,
   "id": "60b44cbc",
   "metadata": {},
   "outputs": [
    {
     "name": "stdout",
     "output_type": "stream",
     "text": [
      "Epoch 1/10\n",
      "\u001b[1m14/14\u001b[0m \u001b[32m━━━━━━━━━━━━━━━━━━━━\u001b[0m\u001b[37m\u001b[0m \u001b[1m1s\u001b[0m 2ms/step - accuracy: 0.4930 - loss: 1.0213  \n",
      "Epoch 2/10\n",
      "\u001b[1m14/14\u001b[0m \u001b[32m━━━━━━━━━━━━━━━━━━━━\u001b[0m\u001b[37m\u001b[0m \u001b[1m0s\u001b[0m 1ms/step - accuracy: 0.7422 - loss: 0.8168 \n",
      "Epoch 3/10\n",
      "\u001b[1m14/14\u001b[0m \u001b[32m━━━━━━━━━━━━━━━━━━━━\u001b[0m\u001b[37m\u001b[0m \u001b[1m0s\u001b[0m 2ms/step - accuracy: 0.6919 - loss: 0.6680 \n",
      "Epoch 4/10\n",
      "\u001b[1m14/14\u001b[0m \u001b[32m━━━━━━━━━━━━━━━━━━━━\u001b[0m\u001b[37m\u001b[0m \u001b[1m0s\u001b[0m 2ms/step - accuracy: 0.7802 - loss: 0.5157 \n",
      "Epoch 5/10\n",
      "\u001b[1m14/14\u001b[0m \u001b[32m━━━━━━━━━━━━━━━━━━━━\u001b[0m\u001b[37m\u001b[0m \u001b[1m0s\u001b[0m 1ms/step - accuracy: 0.8603 - loss: 0.4712 \n",
      "Epoch 6/10\n",
      "\u001b[1m14/14\u001b[0m \u001b[32m━━━━━━━━━━━━━━━━━━━━\u001b[0m\u001b[37m\u001b[0m \u001b[1m0s\u001b[0m 2ms/step - accuracy: 0.8765 - loss: 0.3851 \n",
      "Epoch 7/10\n",
      "\u001b[1m14/14\u001b[0m \u001b[32m━━━━━━━━━━━━━━━━━━━━\u001b[0m\u001b[37m\u001b[0m \u001b[1m0s\u001b[0m 2ms/step - accuracy: 0.9298 - loss: 0.3408 \n",
      "Epoch 8/10\n",
      "\u001b[1m14/14\u001b[0m \u001b[32m━━━━━━━━━━━━━━━━━━━━\u001b[0m\u001b[37m\u001b[0m \u001b[1m0s\u001b[0m 1ms/step - accuracy: 0.8357 - loss: 0.3007 \n",
      "Epoch 9/10\n",
      "\u001b[1m14/14\u001b[0m \u001b[32m━━━━━━━━━━━━━━━━━━━━\u001b[0m\u001b[37m\u001b[0m \u001b[1m0s\u001b[0m 2ms/step - accuracy: 0.8882 - loss: 0.2778 \n",
      "Epoch 10/10\n",
      "\u001b[1m14/14\u001b[0m \u001b[32m━━━━━━━━━━━━━━━━━━━━\u001b[0m\u001b[37m\u001b[0m \u001b[1m0s\u001b[0m 2ms/step - accuracy: 0.9243 - loss: 0.2399 \n"
     ]
    },
    {
     "data": {
      "text/html": [
       "<pre style=\"white-space:pre;overflow-x:auto;line-height:normal;font-family:Menlo,'DejaVu Sans Mono',consolas,'Courier New',monospace\"><span style=\"font-weight: bold\">Model: \"sequential\"</span>\n",
       "</pre>\n"
      ],
      "text/plain": [
       "\u001b[1mModel: \"sequential\"\u001b[0m\n"
      ]
     },
     "metadata": {},
     "output_type": "display_data"
    },
    {
     "data": {
      "text/html": [
       "<pre style=\"white-space:pre;overflow-x:auto;line-height:normal;font-family:Menlo,'DejaVu Sans Mono',consolas,'Courier New',monospace\">┏━━━━━━━━━━━━━━━━━━━━━━━━━━━━━━━━━┳━━━━━━━━━━━━━━━━━━━━━━━━┳━━━━━━━━━━━━━━━┓\n",
       "┃<span style=\"font-weight: bold\"> Layer (type)                    </span>┃<span style=\"font-weight: bold\"> Output Shape           </span>┃<span style=\"font-weight: bold\">       Param # </span>┃\n",
       "┡━━━━━━━━━━━━━━━━━━━━━━━━━━━━━━━━━╇━━━━━━━━━━━━━━━━━━━━━━━━╇━━━━━━━━━━━━━━━┩\n",
       "│ dense (<span style=\"color: #0087ff; text-decoration-color: #0087ff\">Dense</span>)                   │ (<span style=\"color: #00d7ff; text-decoration-color: #00d7ff\">None</span>, <span style=\"color: #00af00; text-decoration-color: #00af00\">64</span>)             │           <span style=\"color: #00af00; text-decoration-color: #00af00\">320</span> │\n",
       "├─────────────────────────────────┼────────────────────────┼───────────────┤\n",
       "│ dense_1 (<span style=\"color: #0087ff; text-decoration-color: #0087ff\">Dense</span>)                 │ (<span style=\"color: #00d7ff; text-decoration-color: #00d7ff\">None</span>, <span style=\"color: #00af00; text-decoration-color: #00af00\">64</span>)             │         <span style=\"color: #00af00; text-decoration-color: #00af00\">4,160</span> │\n",
       "├─────────────────────────────────┼────────────────────────┼───────────────┤\n",
       "│ dense_2 (<span style=\"color: #0087ff; text-decoration-color: #0087ff\">Dense</span>)                 │ (<span style=\"color: #00d7ff; text-decoration-color: #00d7ff\">None</span>, <span style=\"color: #00af00; text-decoration-color: #00af00\">3</span>)              │           <span style=\"color: #00af00; text-decoration-color: #00af00\">195</span> │\n",
       "└─────────────────────────────────┴────────────────────────┴───────────────┘\n",
       "</pre>\n"
      ],
      "text/plain": [
       "┏━━━━━━━━━━━━━━━━━━━━━━━━━━━━━━━━━┳━━━━━━━━━━━━━━━━━━━━━━━━┳━━━━━━━━━━━━━━━┓\n",
       "┃\u001b[1m \u001b[0m\u001b[1mLayer (type)                   \u001b[0m\u001b[1m \u001b[0m┃\u001b[1m \u001b[0m\u001b[1mOutput Shape          \u001b[0m\u001b[1m \u001b[0m┃\u001b[1m \u001b[0m\u001b[1m      Param #\u001b[0m\u001b[1m \u001b[0m┃\n",
       "┡━━━━━━━━━━━━━━━━━━━━━━━━━━━━━━━━━╇━━━━━━━━━━━━━━━━━━━━━━━━╇━━━━━━━━━━━━━━━┩\n",
       "│ dense (\u001b[38;5;33mDense\u001b[0m)                   │ (\u001b[38;5;45mNone\u001b[0m, \u001b[38;5;34m64\u001b[0m)             │           \u001b[38;5;34m320\u001b[0m │\n",
       "├─────────────────────────────────┼────────────────────────┼───────────────┤\n",
       "│ dense_1 (\u001b[38;5;33mDense\u001b[0m)                 │ (\u001b[38;5;45mNone\u001b[0m, \u001b[38;5;34m64\u001b[0m)             │         \u001b[38;5;34m4,160\u001b[0m │\n",
       "├─────────────────────────────────┼────────────────────────┼───────────────┤\n",
       "│ dense_2 (\u001b[38;5;33mDense\u001b[0m)                 │ (\u001b[38;5;45mNone\u001b[0m, \u001b[38;5;34m3\u001b[0m)              │           \u001b[38;5;34m195\u001b[0m │\n",
       "└─────────────────────────────────┴────────────────────────┴───────────────┘\n"
      ]
     },
     "metadata": {},
     "output_type": "display_data"
    },
    {
     "data": {
      "text/html": [
       "<pre style=\"white-space:pre;overflow-x:auto;line-height:normal;font-family:Menlo,'DejaVu Sans Mono',consolas,'Courier New',monospace\"><span style=\"font-weight: bold\"> Total params: </span><span style=\"color: #00af00; text-decoration-color: #00af00\">14,027</span> (54.80 KB)\n",
       "</pre>\n"
      ],
      "text/plain": [
       "\u001b[1m Total params: \u001b[0m\u001b[38;5;34m14,027\u001b[0m (54.80 KB)\n"
      ]
     },
     "metadata": {},
     "output_type": "display_data"
    },
    {
     "data": {
      "text/html": [
       "<pre style=\"white-space:pre;overflow-x:auto;line-height:normal;font-family:Menlo,'DejaVu Sans Mono',consolas,'Courier New',monospace\"><span style=\"font-weight: bold\"> Trainable params: </span><span style=\"color: #00af00; text-decoration-color: #00af00\">4,675</span> (18.26 KB)\n",
       "</pre>\n"
      ],
      "text/plain": [
       "\u001b[1m Trainable params: \u001b[0m\u001b[38;5;34m4,675\u001b[0m (18.26 KB)\n"
      ]
     },
     "metadata": {},
     "output_type": "display_data"
    },
    {
     "data": {
      "text/html": [
       "<pre style=\"white-space:pre;overflow-x:auto;line-height:normal;font-family:Menlo,'DejaVu Sans Mono',consolas,'Courier New',monospace\"><span style=\"font-weight: bold\"> Non-trainable params: </span><span style=\"color: #00af00; text-decoration-color: #00af00\">0</span> (0.00 B)\n",
       "</pre>\n"
      ],
      "text/plain": [
       "\u001b[1m Non-trainable params: \u001b[0m\u001b[38;5;34m0\u001b[0m (0.00 B)\n"
      ]
     },
     "metadata": {},
     "output_type": "display_data"
    },
    {
     "data": {
      "text/html": [
       "<pre style=\"white-space:pre;overflow-x:auto;line-height:normal;font-family:Menlo,'DejaVu Sans Mono',consolas,'Courier New',monospace\"><span style=\"font-weight: bold\"> Optimizer params: </span><span style=\"color: #00af00; text-decoration-color: #00af00\">9,352</span> (36.54 KB)\n",
       "</pre>\n"
      ],
      "text/plain": [
       "\u001b[1m Optimizer params: \u001b[0m\u001b[38;5;34m9,352\u001b[0m (36.54 KB)\n"
      ]
     },
     "metadata": {},
     "output_type": "display_data"
    },
    {
     "name": "stdout",
     "output_type": "stream",
     "text": [
      "\u001b[1m2/2\u001b[0m \u001b[32m━━━━━━━━━━━━━━━━━━━━\u001b[0m\u001b[37m\u001b[0m \u001b[1m0s\u001b[0m 8ms/step - accuracy: 0.9303 - loss: 0.1973 \n",
      "Test loss: [0.21136754751205444, 0.9111111164093018]\n",
      "Test accuracy: 1.0\n"
     ]
    }
   ],
   "source": [
    "import tensorflow as tf\n",
    "from tensorflow import keras\n",
    "from tensorflow.keras import layers\n",
    "\n",
    "\n",
    "# Define a simple feed-forward neural network model\n",
    "model = keras.Sequential([\n",
    "    keras.Input(shape=(4,)),\n",
    "    layers.Dense(64, activation='relu'),\n",
    "    layers.Dense(64, activation='relu'),\n",
    "    layers.Dense(3, activation='softmax')\n",
    "])\n",
    "\n",
    "# Compile the model\n",
    "model.compile(optimizer='adam', loss='categorical_crossentropy', metrics=['accuracy'])\n",
    "\n",
    "# One hot encode the labels\n",
    "y_train_encoded = keras.utils.to_categorical(y_train)\n",
    "y_test_encoded = keras.utils.to_categorical(y_test)\n",
    "\n",
    "# Train the model\n",
    "model.fit(X_train_scaled, y_train_encoded, epochs=10, batch_size=8)\n",
    "\n",
    "# Display the model architecture\n",
    "model.summary()\n",
    "\n",
    "# Test the model\n",
    "test_loss = model.evaluate(X_test_scaled, y_test_encoded)\n",
    "print(f'Test loss: {test_loss}')\n",
    "print(f'Test accuracy: {accuracy_score(y_test, y_pred)}')"
   ]
  },
  {
   "cell_type": "markdown",
   "id": "81f069b5",
   "metadata": {},
   "source": [
    "#### [PyTorch](https://pytorch.org/)\n",
    "\n",
    "**PyTorch** is another leading deep learning framework known for its dynamic computational graph and ease of use. It is particularly popular for research and prototyping, offering a Pythonic interface and robust GPU support."
   ]
  },
  {
   "cell_type": "code",
   "execution_count": 22,
   "id": "ec44ea4e",
   "metadata": {},
   "outputs": [
    {
     "name": "stdout",
     "output_type": "stream",
     "text": [
      "Epoch 1/5, Batch 0, Loss: 2.3035\n",
      "Epoch 1/5, Batch 200, Loss: 0.4959\n",
      "Epoch 1/5, Batch 400, Loss: 0.1845\n",
      "Epoch 1/5, Batch 600, Loss: 0.2975\n",
      "Epoch 1/5, Batch 800, Loss: 0.2291\n",
      "Epoch 1/5 completed, Average Loss: 0.3539\n",
      "Epoch 2/5, Batch 0, Loss: 0.1889\n",
      "Epoch 2/5, Batch 200, Loss: 0.1698\n",
      "Epoch 2/5, Batch 400, Loss: 0.2180\n",
      "Epoch 2/5, Batch 600, Loss: 0.1279\n",
      "Epoch 2/5, Batch 800, Loss: 0.1358\n",
      "Epoch 2/5 completed, Average Loss: 0.1726\n",
      "Epoch 3/5, Batch 0, Loss: 0.2956\n",
      "Epoch 3/5, Batch 200, Loss: 0.0910\n",
      "Epoch 3/5, Batch 400, Loss: 0.0637\n",
      "Epoch 3/5, Batch 600, Loss: 0.1776\n",
      "Epoch 3/5, Batch 800, Loss: 0.2402\n",
      "Epoch 3/5 completed, Average Loss: 0.1348\n",
      "Epoch 4/5, Batch 0, Loss: 0.1370\n",
      "Epoch 4/5, Batch 200, Loss: 0.1464\n",
      "Epoch 4/5, Batch 400, Loss: 0.1057\n",
      "Epoch 4/5, Batch 600, Loss: 0.0652\n",
      "Epoch 4/5, Batch 800, Loss: 0.1494\n",
      "Epoch 4/5 completed, Average Loss: 0.1139\n",
      "Epoch 5/5, Batch 0, Loss: 0.0658\n",
      "Epoch 5/5, Batch 200, Loss: 0.0525\n",
      "Epoch 5/5, Batch 400, Loss: 0.0467\n",
      "Epoch 5/5, Batch 600, Loss: 0.0556\n",
      "Epoch 5/5, Batch 800, Loss: 0.0974\n",
      "Epoch 5/5 completed, Average Loss: 0.1016\n",
      "\n",
      "Test Loss: 0.0797, Test Accuracy: 97.55%\n"
     ]
    }
   ],
   "source": [
    "# Example: Creating a neural network in PyTorch with MNIST dataset\n",
    "import torch\n",
    "import torch.nn as nn\n",
    "import torch.optim as optim\n",
    "import torch.nn.functional as F\n",
    "from torchvision import datasets, transforms\n",
    "from torch.utils.data import DataLoader\n",
    "\n",
    "# Define a neural network for MNIST classification\n",
    "class MNISTNet(nn.Module):\n",
    "    def __init__(self):\n",
    "        super(MNISTNet, self).__init__()\n",
    "        self.fc1 = nn.Linear(784, 128)  # 28x28 = 784 input features\n",
    "        self.fc2 = nn.Linear(128, 64)\n",
    "        self.fc3 = nn.Linear(64, 10)    # 10 output classes (digits 0-9)\n",
    "        self.dropout = nn.Dropout(0.2)\n",
    "\n",
    "    def forward(self, x):\n",
    "        x = x.view(-1, 784)  # Flatten the image\n",
    "        x = F.relu(self.fc1(x))\n",
    "        x = self.dropout(x)\n",
    "        x = F.relu(self.fc2(x))\n",
    "        x = self.dropout(x)\n",
    "        x = self.fc3(x)\n",
    "        return F.log_softmax(x, dim=1)\n",
    "\n",
    "# Download and prepare MNIST dataset\n",
    "transform = transforms.Compose([\n",
    "    transforms.ToTensor(),\n",
    "    transforms.Normalize((0.1307,), (0.3081,))\n",
    "])\n",
    "\n",
    "train_dataset = datasets.MNIST(root='./data', train=True, download=True, transform=transform)\n",
    "test_dataset = datasets.MNIST(root='./data', train=False, download=True, transform=transform)\n",
    "\n",
    "train_loader = DataLoader(train_dataset, batch_size=64, shuffle=True)\n",
    "test_loader = DataLoader(test_dataset, batch_size=1000, shuffle=False)\n",
    "\n",
    "# Initialize the model, loss function, and optimizer\n",
    "model = MNISTNet()\n",
    "criterion = nn.NLLLoss()\n",
    "optimizer = optim.Adam(model.parameters(), lr=0.001)\n",
    "\n",
    "# Training loop\n",
    "model.train()\n",
    "for epoch in range(5):\n",
    "    running_loss = 0.0\n",
    "    for batch_idx, (data, target) in enumerate(train_loader):\n",
    "        optimizer.zero_grad()\n",
    "        output = model(data)\n",
    "        loss = criterion(output, target)\n",
    "        loss.backward()\n",
    "        optimizer.step()\n",
    "        running_loss += loss.item()\n",
    "        \n",
    "        if batch_idx % 200 == 0:\n",
    "            print(f'Epoch {epoch+1}/5, Batch {batch_idx}, Loss: {loss.item():.4f}')\n",
    "    \n",
    "    print(f'Epoch {epoch+1}/5 completed, Average Loss: {running_loss/len(train_loader):.4f}')\n",
    "\n",
    "# Test the model\n",
    "model.eval()\n",
    "test_loss = 0\n",
    "correct = 0\n",
    "with torch.no_grad():\n",
    "    for data, target in test_loader:\n",
    "        output = model(data)\n",
    "        test_loss += criterion(output, target).item()\n",
    "        pred = output.argmax(dim=1, keepdim=True)\n",
    "        correct += pred.eq(target.view_as(pred)).sum().item()\n",
    "\n",
    "test_loss /= len(test_loader)\n",
    "accuracy = 100. * correct / len(test_dataset)\n",
    "print(f'\\nTest Loss: {test_loss:.4f}, Test Accuracy: {accuracy:.2f}%')"
   ]
  },
  {
   "cell_type": "markdown",
   "id": "3687c2e3",
   "metadata": {},
   "source": [
    "#### [ArgParse](https://docs.python.org/3/library/argparse.html)\n",
    "\n",
    "**ArgParse** is a standard Python library for building command-line interfaces. It helps you define the arguments your program accepts and automatically generates help messages, making your scripts easier to use and share."
   ]
  },
  {
   "cell_type": "code",
   "execution_count": 23,
   "id": "be374180",
   "metadata": {},
   "outputs": [
    {
     "name": "stdout",
     "output_type": "stream",
     "text": [
      "Training Configuration:\n",
      "Model: cnn\n",
      "Dataset: mnist\n",
      "Epochs: 5\n",
      "Batch Size: 32\n",
      "Learning Rate: 0.01\n",
      "Optimizer: adam\n",
      "Data Path: ./data\n",
      "Use GPU: True\n",
      "Save Model To: model.pth\n",
      "Verbose Mode: True\n"
     ]
    }
   ],
   "source": [
    "import argparse\n",
    "\n",
    "# Initialize the parser for a machine learning training script\n",
    "parser = argparse.ArgumentParser(description=\"Train a neural network model\")\n",
    "\n",
    "# Model configuration arguments\n",
    "parser.add_argument('--model', type=str, default='cnn', choices=['cnn', 'mlp', 'resnet'],\n",
    "                    help='Model architecture to use (default: cnn)')\n",
    "\n",
    "parser.add_argument('--epochs', type=int, default=10,\n",
    "                    help='Number of training epochs (default: 10)')\n",
    "\n",
    "parser.add_argument('--batch-size', type=int, default=64,\n",
    "                    help='Training batch size (default: 64)')\n",
    "\n",
    "parser.add_argument('--lr', '--learning-rate', type=float, default=0.001,\n",
    "                    help='Learning rate for optimizer (default: 0.001)')\n",
    "\n",
    "parser.add_argument('--optimizer', type=str, default='adam', choices=['adam', 'sgd', 'rmsprop'],\n",
    "                    help='Optimizer to use (default: adam)')\n",
    "\n",
    "# Data arguments\n",
    "parser.add_argument('--dataset', type=str, default='mnist', choices=['mnist', 'cifar10', 'imagenet'],\n",
    "                    help='Dataset to train on (default: mnist)')\n",
    "\n",
    "parser.add_argument('--data-path', type=str, default='./data',\n",
    "                    help='Path to dataset directory (default: ./data)')\n",
    "\n",
    "# Training arguments\n",
    "parser.add_argument('--gpu', action='store_true',\n",
    "                    help='Use GPU for training if available')\n",
    "\n",
    "parser.add_argument('--save-model', type=str, default='model.pth',\n",
    "                    help='Path to save trained model (default: model.pth)')\n",
    "\n",
    "parser.add_argument('--verbose', action='store_true',\n",
    "                    help='Print detailed training information')\n",
    "\n",
    "# For Jupyter notebooks, we simulate command line arguments\n",
    "test_args = ['--model', 'cnn', '--epochs', '5', '--batch-size', '32', '--lr', '0.01', '--gpu', '--verbose']\n",
    "\n",
    "# Parse the test arguments\n",
    "args = parser.parse_args(test_args)\n",
    "\n",
    "# Display the parsed arguments\n",
    "print(\"Training Configuration:\")\n",
    "print(f\"Model: {args.model}\")\n",
    "print(f\"Dataset: {args.dataset}\")\n",
    "print(f\"Epochs: {args.epochs}\")\n",
    "print(f\"Batch Size: {args.batch_size}\")\n",
    "print(f\"Learning Rate: {args.lr}\")\n",
    "print(f\"Optimizer: {args.optimizer}\")\n",
    "print(f\"Data Path: {args.data_path}\")\n",
    "print(f\"Use GPU: {args.gpu}\")\n",
    "print(f\"Save Model To: {args.save_model}\")\n",
    "print(f\"Verbose Mode: {args.verbose}\")"
   ]
  },
  {
   "cell_type": "markdown",
   "id": "8a914560",
   "metadata": {},
   "source": [
    "CPU based packages with GPU equivalents, cuPY for Numpy\n",
    "<img src=\"assets/gpu_packages.png\">"
   ]
  },
  {
   "cell_type": "markdown",
   "id": "2eddbc00",
   "metadata": {},
   "source": [
    "## The basics of models"
   ]
  },
  {
   "cell_type": "markdown",
   "id": "628a69c4",
   "metadata": {},
   "source": [
    "### Regression / Classification Tasks\n",
    "\n",
    "Regression and classification are the two main types of ML tasks that are both fundamentally predicting an output based on input data. Regression involves predicting a continuous output value, such as a number, while classification involves predicting a discrete output value, such as a category or label.\n",
    "\n",
    "Regression is often used in tasks such as predicting housing prices based on various features of the property, or predicting the amount of rainfall in a particular area based on historical data. Classification is often used in tasks such as identifying whether an email is spam or not, or determining whether an image contains a certain object or not. The main difference between regression and classification is the type of output being predicted. In regression, the output is continuous, while in classification, the output is discrete.\n",
    "\n",
    "Regression can often be used to classify categorical data by assigning set values to each category, so there is some overlap in between the methodologies. It is important to understand your question and the general properties of the underlying data to properly choose which task is needed.\n",
    "\n",
    "### What is data?\n",
    "\n",
    "Data is a measurement or recording of the properties of an object or entity. Nearly anything can be represented numerically, which is necessary in order to understand data mathematically. Let us take a simple example.\n",
    "\n",
    "Imagine you want to predict the price of a car from data that describes it. Predicting price could be a regression or classification problem. You could “bin” the prices into $1000 increments. One category could be between $25000 and $26000, another between $26000 and $27000. But more traditionally, price is a continuous number, where a range of values is acceptable. We will treat this like a regression problem.\n",
    "\n",
    "So what features of the car do we have available? Let’s take a look.\n",
    "\n",
    "| Price | Mileage | Make | Model | Trim | Type | Cylinder | Liter | Doors | Cruise | Sound | Leather |\n",
    "| --- | --- | --- | --- | --- | --- | --- | --- | --- | --- | --- | --- |\n",
    "| 17314.1 | 8221 | Buick | Century | Sedan 4D | Sedan | 6 | 3.1 | 4 | 1 | 1 | 1 |\n",
    "| 17542.04 | 9135 | Buick | Century | Sedan 4D | Sedan | 6 | 3.1 | 4 | 1 | 1 | 0 |\n",
    "| 16218.85 | 13196 | Buick | Century | Sedan 4D | Sedan | 6 | 3.1 | 4 | 1 | 1 | 0 |\n",
    "| 16336.91 | 16342 | Buick | Century | Sedan 4D | Sedan | 6 | 3.1 | 4 | 1 | 0 | 0 |\n",
    "| 16339.17 | 19832 | Buick | Century | Sedan 4D | Sedan | 6 | 3.1 | 4 | 1 | 0 | 1 |\n",
    "| 15709.05 | 22236 | Buick | Century | Sedan 4D | Sedan | 6 | 3.1 | 4 | 1 | 1 | 0 |\n",
    "\n",
    "Here we have a data set that has 7 features, Mileage, Make, Model, Trim, Type, Cylinder, Liter, Door, Cruise, Sound, and Leather. We can use ML to build a function that predicts price. Some features are already naturally represented by numbers, like mileage, cylinder count, liter count, and door count. However, other features have to be manually changed into categorical variables. For example, cruise, sound, and leather have been already turned into a binary categorical variable. 1 if the car has that feature and 0 if it does not. Others like make and model must be converted still. Every unique make, model, trim, and type must get its own unique integer. For instance, the make Buick can be 1 and Chevy can be 2, etc. This way, we have a vector of numbers that represents the features corresponding to the price.\n",
    "\n",
    "This transformation of text data into numerical data is typically called **encoding**. You will learn a lot about encoding features throughout this guide.\n",
    "\n",
    "The goal of a regression problem like this would be to **learn** a function that does the following:\n",
    "\n",
    "$$\n",
    "\\text{Price} = f(\\text{Mileage, Make, Model, ... , Leather})\n",
    "$$\n",
    "\n",
    "Once they are all numerical features it would look something like this:\n",
    "\n",
    "$$\n",
    "17314.1=f(8221, 1, 1, 1, 1, 6, 3.1, 4, 1, 1, 1)\n",
    "$$\n",
    "\n",
    "Importantly, you can split this data into a $y$ vector and $X$ matrix. This is a common way to separate what you are trying to predict ($y$) and what you have to predict with ($X$).\n",
    "\n",
    "| Y |  | X |  |  |  |  |  |  |  |  |  |  |\n",
    "| --- | --- | --- | --- | --- | --- | --- | --- | --- | --- | --- | --- | --- |\n",
    "| 17314.1 |  | 8221 | 1 | 1 | 1 | 1 | 6 | 3.1 | 4 | 1 | 1 | 1 |\n",
    "| 17542.04 |  | 9135 | 1 | 1 | 1 | 1 | 6 | 3.1 | 4 | 1 | 1 | 0 |\n",
    "| 16218.85 |  | 13196 | 1 | 1 | 1 | 1 | 6 | 3.1 | 4 | 1 | 1 | 0 |\n",
    "| 16336.91 |  | 16342 | 1 | 1 | 1 | 1 | 6 | 3.1 | 4 | 1 | 0 | 0 |\n",
    "| 16339.17 |  | 19832 | 1 | 1 | 1 | 1 | 6 | 3.1 | 4 | 1 | 0 | 1 |\n",
    "| 15709.05 |  | 22236 | 1 | 1 | 1 | 1 | 6 | 3.1 | 4 | 1 | 1 | 0 |\n",
    "\n",
    "Let us get into how to how one might use $X$ to predict $y$."
   ]
  },
  {
   "cell_type": "markdown",
   "id": "b16f6f0b",
   "metadata": {},
   "source": [
    "## Types of learning"
   ]
  },
  {
   "cell_type": "markdown",
   "id": "d12800b9",
   "metadata": {},
   "source": [
    "Supervised learning, unsupervised learning, and semi-supervised learning are three common types of machine learning techniques.\n",
    "\n",
    "### Supervised learning:\n",
    "\n",
    "In supervised learning, the model learns from labeled data, where each data point has a corresponding label or output. The goal is to learn a mapping between the input features and the correct output labels. The model is trained using examples of input-output pairs and then can make predictions on new, unseen data. In other words, strategic trial and error.\n",
    "\n",
    "<img src=\"assets/supervised_learning.png\">\n",
    "\n",
    "https://towardsdatascience.com/supervised-vs-unsupervised-learning-in-2-minutes-72dad148f242\n",
    "\n",
    "### Unsupervised learning:\n",
    "\n",
    "In unsupervised learning, the model learns from unlabeled data, without any guidance on what the output should be. The goal is to discover patterns or structures in the data that can be used to understand or segment it. The model is trained using only the input data, and the algorithm must find its own internal structure in the absence of labeled data. One way to think about it is putting sections of data together if they are close enough in their feature space. For example, putting cars in our car dataset together if they all belong to Ford. \n",
    "\n",
    "<img src=\"assets/unsupervised_learning.png\">\n",
    "\n",
    "https://towardsdatascience.com/supervised-vs-unsupervised-learning-in-2-minutes-72dad148f242\n",
    "\n",
    "### Semi-supervised learning:\n",
    "\n",
    "In semi-supervised learning, the model learns from a combination of labeled and unlabeled data. Essentially, the input data becomes the annotation by masking or hiding parts of the input and asking for the model to fill in that information. Semi-supervised learning is particularly useful when labeled data is expensive or difficult to obtain. \n",
    "\n",
    "<img src=\"assets/semisupervised_learning.png\">\n",
    "\n",
    "https://www.researchgate.net/figure/RoBERTa-masked-language-modeling-with-the-input-sentence-The-cat-is-eating-some-food_fig1_358563215"
   ]
  },
  {
   "cell_type": "markdown",
   "id": "cd8db28a",
   "metadata": {},
   "source": [
    "### Overfitting / Underfitting\n",
    "\n",
    "Overfitting and underfitting are two common problems that can arise in machine learning:\n",
    "\n",
    "- Overfitting occurs when a model is too large, complex, or has been trained extensively on a small dataset. When a model fits the training data too well it captures the noise in the dataset and loses generalization ability; it can even memorize specific examples which is the worst case scenario. In other words, the model becomes too specialized on the training data, and does not perform well on new, unseen data.\n",
    "- Underfitting occurs when a model is too simple, small, or has not been trained enough on a given dataset and thus cannot capture the underlying patterns. In this case, the model does not fit the training data well, and therefore cannot generalize well to new, unseen data.\n",
    "\n",
    "<img src=\"assets/overfitting.png\">\n",
    "\n",
    "https://docs.aws.amazon.com/machine-learning/latest/dg/model-fit-underfitting-vs-overfitting.html\n",
    "\n",
    "Both over and under fitting can be combated with careful model selection and testing, but more importantly, with test data. Test data is a subset of your entire dataset that is not used to train the model **EVER**. After your model is fit or done training, you can use the test data to evaluate your model and determine how generalizable your model is on unseen data of the same “type.”\n",
    "\n",
    "Underfitted models will perform the same on training and test data, and overfitting models will perform much better on training data than test data. In a perfect world, a well-fit model performs exactly the same on training and test data. In practice, the test data will result in slightly better or worse metrics than the training, simply because it is a “hard” subset of that datatype or an “easy” subset, based upon how much relative variance it contains.\n",
    "\n",
    "For deep learning, it is common to have an additional subset of data called validation data. The validation data is not used to explicitly fit the model but is used throughout training to evaluate the progress or save a specific configuration of parameters. When validation metrics are improving, the model is training well. After training, test data is used for a “real” evaluation of performance. \n",
    "\n",
    "The gold standard for presenting results is on test data. Results on training data are not meaningful in themselves, because a sufficiently large model could simply memorize every example it was fed. A typical split for train, validation, test can be as small as 90, 5, 5%, or as big as 50, 25, 25%. For an extremely small dataset, the only rigorous metric possible may be a cross-validation score, which is discussed below."
   ]
  },
  {
   "cell_type": "markdown",
   "id": "1237dfec",
   "metadata": {},
   "source": [
    "### Cross-validation\n",
    "\n",
    "#### Hyperparameters\n",
    "\n",
    "While the word parameter in ML refers to the trained parameters, weights, of a network there are often model parameters that are not learned in training. These are referred to as hyperparameters because they are chosen by the ML engineer. Some examples include the learning rate, the batch size, and regularization parameters, dropout percentage, the optimizer chosen etc. The list goes on. If you have never heard of any of these before that is perfectly okay, there is an intro below.\n",
    "\n",
    "Sometimes, ML engineers play a game of guess and check to pick the “optimal” hyperparameters. For extremely large models there are some theoretical ways to do this in a more rigorous way. However, for reasonably sized models one can use the technique of cross-validation.\n",
    "\n",
    "Cross-validation is essentially breaking training data into a bunch of parts and retraining the model on different combinations of the parts.\n",
    "\n",
    "For example, split your training set evenly into 5 parts. Train the model on the first 4 parts, and evaluate on the 5th. Record this result for later. Train the model on parts 1,2,3,5, and evaluate on the 4th. Record the results. Repeat for all combinations of data, then, average the results. This result is the cross-validation score and is a much better measurement of model performance than just fitting on the entire training set once. Here we split the data into 5 parts so it was 5-fold cross-validation. It is common to see the wording k-fold cross-validation where k is the number of splits applied to the data. 10 is kind of the “industry standard” but choosing k ultimately depends on how much data you have and how much compute it takes to train the given model.\n",
    "\n",
    "So how does this help with hyperparameters? Simply try a large range of hyperparameters where you run k-fold cross-validation for each set of hyperparameters. Once you have a sense of the general range you should use, you could make your range a bit smaller and then make your final choice.\n",
    "\n",
    "It is important to realize that this simply is not possible for large models or large dataset. Performing cross-validation on a smaller subset of data is one option to reduce how much time this take. In that case, try to choose a *diverse* set of training examples such that the amount of variance in the subset is similar to the variance in the entire dataset. It is also a good practice to shuffle data before cross-validation, and even in between runs for generalizable results."
   ]
  },
  {
   "cell_type": "markdown",
   "id": "edf54536",
   "metadata": {},
   "source": [
    "## Classical models"
   ]
  },
  {
   "cell_type": "markdown",
   "id": "c8f295fe",
   "metadata": {},
   "source": [
    "### Supervised:\n",
    "\n",
    "Linear Regression:\n",
    "\n",
    "Linear regression is a simple and commonly used algorithm for regression tasks, which involves predicting a continuous output variable based on one or more input variables. It works by finding the best-fit line that minimizes the difference between the predicted output and actual output. *Here, some math is laid out to give an intuition towards penalized regression, which is an important topic for the regularization of neural network weights and is used in all the top-tier AI models.*\n",
    "\n",
    "Given a data matrix, figure out the coefficients $*\\beta*$ (vector) to equal prediction $Y$ (vector). \n",
    "\n",
    "$$\n",
    "Y = X\\beta\n",
    "$$\n",
    "\n",
    "This can be solved with the optimization problem below.\n",
    "\n",
    "$$\n",
    "\\beta_{approx} = \\underset{\\beta\\in\\mathbb{R}}{\\operatorname{argmin}} \\|Y - X\\beta\\|^2\n",
    "$$\n",
    "\n",
    "$\\text{argmin}$ is a general place holder in optimization to say “An algorithm to minimize what is inside given some constraint” where the constraint here is that the coefficients of $\\beta$ are real numbers. The best unbiased coefficients have the closed-form solution if $X^TX$ is invertible. This linear least squares solution is:\n",
    "\n",
    "$$\n",
    "\\beta = (X^TX)^{-1}X^TY\n",
    "$$\n",
    "\n",
    "Here’s some code looking at linear regression"
   ]
  },
  {
   "cell_type": "code",
   "execution_count": 24,
   "id": "2fe31ef7",
   "metadata": {},
   "outputs": [
    {
     "name": "stdout",
     "output_type": "stream",
     "text": [
      "Scikit-learn Results:\n",
      "Intercept: 4.142913319458566\n",
      "Coefficient: 2.7993236574802762\n",
      "\n",
      "Manual Least Squares Results:\n",
      "Intercept: 4.142913319458571\n",
      "Coefficient: 2.799323657480274\n"
     ]
    },
    {
     "data": {
      "image/png": "[encoded data removed]",
      "text/plain": [
       "<Figure size 1200x500 with 2 Axes>"
      ]
     },
     "metadata": {},
     "output_type": "display_data"
    }
   ],
   "source": [
    "import numpy as np\n",
    "import matplotlib.pyplot as plt\n",
    "from sklearn.linear_model import LinearRegression\n",
    "from sklearn.model_selection import train_test_split\n",
    "\n",
    "# Generate synthetic data\n",
    "np.random.seed(42)\n",
    "X = 2 * np.random.rand(100, 1)\n",
    "y = 4 + 3 * X.flatten() + np.random.randn(100)\n",
    "\n",
    "# Split the data into training and test sets\n",
    "X_train, X_test, y_train, y_test = train_test_split(X, y, test_size=0.2, random_state=42)\n",
    "\n",
    "# Method 1: Scikit-learn LinearRegression\n",
    "lin_reg = LinearRegression()\n",
    "lin_reg.fit(X_train, y_train)\n",
    "y_pred_sklearn = lin_reg.predict(X)\n",
    "\n",
    "print(\"Scikit-learn Results:\")\n",
    "print(\"Intercept:\", lin_reg.intercept_)\n",
    "print(\"Coefficient:\", lin_reg.coef_[0])\n",
    "\n",
    "# Method 2: Manual least squares solution using numpy\n",
    "# Add bias term (intercept) to X for manual calculation\n",
    "X_train_bias = np.c_[np.ones((X_train.shape[0], 1)), X_train]  # Add column of ones for intercept\n",
    "X_bias = np.c_[np.ones((X.shape[0], 1)), X]  # For prediction\n",
    "\n",
    "# Calculate coefficients using the normal equation: β = (X^T X)^(-1) X^T y\n",
    "beta = np.linalg.inv(X_train_bias.T.dot(X_train_bias)).dot(X_train_bias.T).dot(y_train)\n",
    "y_pred_manual = X_bias.dot(beta)\n",
    "\n",
    "print(\"\\nManual Least Squares Results:\")\n",
    "print(\"Intercept:\", beta[0])\n",
    "print(\"Coefficient:\", beta[1])\n",
    "\n",
    "assert np.allclose(y_pred_sklearn, y_pred_manual), \"Scikit-learn and manual implementations should give very close results\"\n",
    "\n",
    "# Create subplots for visualization\n",
    "fig, (ax1, ax2) = plt.subplots(1, 2, figsize=(12, 5))\n",
    "\n",
    "# Subplot 1: Scikit-learn solution\n",
    "ax1.scatter(X, y, color='blue', alpha=0.6, label='Data points')\n",
    "ax1.plot(X, y_pred_sklearn, color='red', linewidth=2, label='Scikit-learn regression')\n",
    "ax1.set_xlabel(\"Feature X\")\n",
    "ax1.set_ylabel(\"Target y\")\n",
    "ax1.set_title(\"Linear Regression (Scikit-learn)\")\n",
    "ax1.legend()\n",
    "ax1.grid(True, alpha=0.3)\n",
    "\n",
    "# Subplot 2: Manual least squares solution\n",
    "ax2.scatter(X, y, color='blue', alpha=0.6, label='Data points')\n",
    "ax2.plot(X, y_pred_manual, color='green', linewidth=2, label='Manual least squares')\n",
    "ax2.set_xlabel(\"Feature X\")\n",
    "ax2.set_ylabel(\"Target y\")\n",
    "ax2.set_title(\"Linear Regression (Manual Implementation)\")\n",
    "ax2.legend()\n",
    "ax2.grid(True, alpha=0.3)\n",
    "\n",
    "plt.tight_layout()\n",
    "plt.show()"
   ]
  },
  {
   "cell_type": "markdown",
   "id": "d2816a8f",
   "metadata": {},
   "source": [
    "However, least squares estimates often have large variance (0 bias) leading to suboptimal prediction performance. To combat this, least squares is often penalized to introduce some variance to decrease the bias of the estimation. This seems unfavorable initially, but in practice, it can reduce the total error, often measured as Mean Squared Error (MSE). On top of that, penalized regression leads to some unique properties on the learned coefficients that are also applicable to the regularization of weights in neural networks.\n",
    "\n",
    "Relevant to penalized regression is the concept of norms. Norms are a way to summarize the values in a vector or matrix without looking at the entire thing at once. The most common norms in ML (and computational math in general) are the 1st, 2nd, infinity, and Frobenius ($F$) norms. Vector norms are denoted with two bars as follows:\n",
    "\n",
    "$$\n",
    "\\|v\\|_j=(\\sum_{i=1}^n|v_i|^j)^{1/j}\n",
    "$$\n",
    "\n",
    "where the $j$th norm is the sum of the absolute value of the components of the vector to the $j$th power all to the $\\frac{1}{j}$th root. Therefore, the first and second ($l1$ and $l2$) norms are:\n",
    "\n",
    "$$\n",
    "\\|v\\|_1=\\sum_{i=1}^n|v_i|\\quad or \\quad |v_1|+|v_2|+|v_3|+...+|v_n|\n",
    "$$\n",
    "\n",
    "$$\n",
    "\\|v\\|_2=(\\sum_{i=1}^n|v_i|^2)^{1/2} \\quad or \\quad \\sqrt{|v_1|^2+|v_1|^2+|v_3|^2+...|v_n|^2}\n",
    "$$\n",
    "\n",
    "Therefore, we can penalize regressive models by constraining the minimum coefficients chosen further by placing a norm on them. Using the $l1$ norm is called lasso:\n",
    "\n",
    "$$\n",
    "\\beta_{approx} = \\underset{\\beta\\in\\mathbb{R}}{\\operatorname{argmin}} \\|Y - X\\beta\\|^2 + \\alpha\\|\\beta\\|_1\n",
    "$$\n",
    "\n",
    "Where $\\alpha$ is a real number that scales this $l1$ norm. A huge alpha will make the $l1$ norm the only consideration of the algorithm chosen to find $\\beta$, where a small $\\alpha$ only modifies the solution a little bit. Using the $l2$ norm and some scaler $\\gamma$ is called ridge regression:\n",
    "\n",
    "$$\n",
    "\\beta_{approx} = \\underset{\\beta\\in\\mathbb{R}}{\\operatorname{argmin}} \\|Y - X\\beta\\|^2 + \\gamma\\|\\beta\\|_2\n",
    "$$\n",
    "\n",
    "Penalizing the 2nd norm prevents overfitting because it incentivizes the coefficients to be small, as overfitted solutions tend to rely heavily on larger coefficients skewing the inputs. Penalizing the 1st norm of the coefficients forces a sparse solution of the coefficients because it incentivizes as few nonzero coefficients as possible. This can be used to showcase the relative importance of the features of the data. Penalizing both a the same time is called elastic net regression, and coefficients tend to be small and sparse. You can penalize the weights of neural networks (mentioned below) in the same way; $*l2$ generally helps prevent overfitting and $l1$ leads to a sparser utilization of nodes.*\n",
    "\n",
    "$$\n",
    "\\beta_{approx} = \\|Y - X\\beta\\|^2 + \\alpha\\|\\beta\\|_1 + \\gamma\\|\\beta\\|_2\n",
    "$$\n",
    "\n",
    "Lasso and ridge regression do not have a closed-form solution like regular least squares, but many packages such as sklearn have implemented highly efficient solvers that can be used for whatever regressive task one might need.\n",
    "\n",
    "For example:"
   ]
  },
  {
   "cell_type": "code",
   "execution_count": 25,
   "id": "a391c7f7",
   "metadata": {},
   "outputs": [
    {
     "name": "stdout",
     "output_type": "stream",
     "text": [
      "Ridge Regression MSE: 0.647613237305426\n",
      "Lasso Regression MSE: 0.6584189249611411\n",
      "Elastic Net Regression MSE: 0.6987956291013825\n"
     ]
    }
   ],
   "source": [
    "from sklearn.linear_model import Ridge, Lasso, ElasticNet\n",
    "from sklearn.metrics import mean_squared_error\n",
    "\n",
    "# Define regularization strengths\n",
    "alpha_ridge = 1.0\n",
    "alpha_lasso = 0.1\n",
    "alpha_elastic = 0.1\n",
    "l1_ratio = 0.5  # Mix of L1 and L2 penalty (0.5 = equal mix)\n",
    "\n",
    "# Ridge Regression\n",
    "ridge_reg = Ridge(alpha=alpha_ridge)\n",
    "ridge_reg.fit(X_train, y_train)\n",
    "y_pred_ridge = ridge_reg.predict(X_test)\n",
    "print(\"Ridge Regression MSE:\", mean_squared_error(y_test, y_pred_ridge))\n",
    "\n",
    "# Lasso Regression\n",
    "lasso_reg = Lasso(alpha=alpha_lasso)\n",
    "lasso_reg.fit(X_train, y_train)\n",
    "y_pred_lasso = lasso_reg.predict(X_test)\n",
    "print(\"Lasso Regression MSE:\", mean_squared_error(y_test, y_pred_lasso))\n",
    "\n",
    "# Elastic Net Regression\n",
    "elastic_reg = ElasticNet(alpha=alpha_elastic, l1_ratio=l1_ratio)\n",
    "elastic_reg.fit(X_train, y_train)\n",
    "y_pred_elastic = elastic_reg.predict(X_test)\n",
    "print(\"Elastic Net Regression MSE:\", mean_squared_error(y_test, y_pred_elastic))"
   ]
  },
  {
   "cell_type": "markdown",
   "id": "98eab6b1",
   "metadata": {},
   "source": [
    "### Ridge vs Lasso vs Ordinary Least Squares (OLS) on MNIST\n",
    "\n",
    "Regularization helps when features are many and correlated (like pixels). Ridge (L2) shrinks coefficients smoothly, improving generalization; Lasso (L1) drives many coefficients exactly to zero, creating sparse, interpretable models. Below we compare OLS, RidgeCV, and LassoCV on a simple MNIST binary task (digits 0 vs 1) to show:\n",
    "\n",
    "- OLS can overfit/high-variance with many correlated features.\n",
    "- Ridge improves stability by shrinking weights.\n",
    "- Lasso performs feature selection by zeroing many pixel weights.\n",
    "\n",
    "We standardize features, use cross-validation to choose regularization strength, and report accuracy and calibration (RMSE). We'll also visualize learned coefficient maps to see shrinkage vs sparsity.\n"
   ]
  },
  {
   "cell_type": "code",
   "execution_count": 26,
   "id": "5775561a",
   "metadata": {},
   "outputs": [
    {
     "name": "stdout",
     "output_type": "stream",
     "text": [
      "Performance (0 vs 1):\n",
      "OLS     | Accuracy: 0.9827 | RMSE: 0.1315\n",
      "RidgeCV | Accuracy: 0.9984 | RMSE: 0.0740\n",
      "LassoCV | Accuracy: 0.9953 | RMSE: 0.0629\n",
      "Chosen Ridge alpha: 100.0\n",
      "Chosen Lasso alpha: 0.0031622776601683794\n",
      "OLS     | Coefficient sparsity: 15.69% zero weights\n",
      "RidgeCV | Coefficient sparsity: 36.61% zero weights\n",
      "LassoCV | Coefficient sparsity: 88.39% zero weights\n"
     ]
    }
   ],
   "source": [
    "# OLS vs RidgeCV vs LassoCV on MNIST (0 vs 1)\n",
    "import numpy as np\n",
    "import pandas as pd\n",
    "import matplotlib.pyplot as plt\n",
    "from sklearn.model_selection import train_test_split\n",
    "from sklearn.preprocessing import StandardScaler\n",
    "from sklearn.linear_model import LinearRegression, RidgeCV, LassoCV\n",
    "from sklearn.metrics import mean_squared_error, accuracy_score\n",
    "\n",
    "# Load the provided MNIST CSV (10k test samples)\n",
    "df = pd.read_csv('data/mnist_test_set.csv')\n",
    "\n",
    "# Build a 0-vs-1 binary task\n",
    "subset = df[df['label'].isin([0, 1])].copy()\n",
    "X = subset.drop(columns=['label']).values.astype(np.float32)\n",
    "y = subset['label'].values.astype(np.int64)\n",
    "\n",
    "# Train/test split\n",
    "X_train, X_test, y_train, y_test = train_test_split(\n",
    "    X, y, test_size=0.3, random_state=42, stratify=y\n",
    ")\n",
    "\n",
    "# Standardize features (important for regularization comparability)\n",
    "scaler = StandardScaler(with_mean=True, with_std=True)\n",
    "X_train_std = scaler.fit_transform(X_train)\n",
    "X_test_std = scaler.transform(X_test)\n",
    "\n",
    "# Models\n",
    "ols = LinearRegression()\n",
    "ridge = RidgeCV(alphas=np.logspace(-3, 3, 13), cv=5)\n",
    "lasso = LassoCV(alphas=np.logspace(-3, 1, 9), cv=5, max_iter=5000, n_jobs=None)\n",
    "\n",
    "# Fit\n",
    "ols.fit(X_train_std, y_train)\n",
    "ridge.fit(X_train_std, y_train)\n",
    "lasso.fit(X_train_std, y_train)\n",
    "\n",
    "# Predict probabilities-ish (regression outputs). We'll threshold at 0.5 for accuracy\n",
    "ols_pred = ols.predict(X_test_std)\n",
    "ridge_pred = ridge.predict(X_test_std)\n",
    "lasso_pred = lasso.predict(X_test_std)\n",
    "\n",
    "# Clip to [0,1] for a fairer RMSE on binary targets\n",
    "ols_pred_clipped = np.clip(ols_pred, 0, 1)\n",
    "ridge_pred_clipped = np.clip(ridge_pred, 0, 1)\n",
    "lasso_pred_clipped = np.clip(lasso_pred, 0, 1)\n",
    "\n",
    "# Metrics\n",
    "results = {}\n",
    "for name, pred, pred_c in [\n",
    "    ('OLS', ols_pred, ols_pred_clipped),\n",
    "    ('RidgeCV', ridge_pred, ridge_pred_clipped),\n",
    "    ('LassoCV', lasso_pred, lasso_pred_clipped),\n",
    "]:\n",
    "    acc = accuracy_score(y_test, (pred >= 0.5).astype(int))\n",
    "    rmse = np.sqrt(mean_squared_error(y_test, pred_c))\n",
    "    results[name] = {'accuracy': acc, 'rmse': rmse}\n",
    "\n",
    "print('Performance (0 vs 1):')\n",
    "for k, v in results.items():\n",
    "    print(f\"{k:7s} | Accuracy: {v['accuracy']:.4f} | RMSE: {v['rmse']:.4f}\")\n",
    "\n",
    "# Report chosen alphas\n",
    "print(f\"Chosen Ridge alpha: {ridge.alpha_}\")\n",
    "print(f\"Chosen Lasso alpha: {lasso.alpha_}\")\n",
    "\n",
    "# Track coefficients\n",
    "coef_dict = {\n",
    "    'OLS': ols.coef_,\n",
    "    'RidgeCV': ridge.coef_,\n",
    "    'LassoCV': lasso.coef_,\n",
    "}\n",
    "\n",
    "# Sparsity (number of zeros) for each\n",
    "for name, coef in coef_dict.items():\n",
    "    zero_frac = np.mean(coef == 0)\n",
    "    print(f\"{name:7s} | Coefficient sparsity: {zero_frac*100:.2f}% zero weights\")\n"
   ]
  },
  {
   "cell_type": "code",
   "execution_count": 27,
   "id": "59ddc048",
   "metadata": {},
   "outputs": [
    {
     "data": {
      "image/png": "[encoded data removed]",
      "text/plain": [
       "<Figure size 1200x400 with 4 Axes>"
      ]
     },
     "metadata": {},
     "output_type": "display_data"
    },
    {
     "data": {
      "image/png": "[encoded data removed]",
      "text/plain": [
       "<Figure size 600x400 with 1 Axes>"
      ]
     },
     "metadata": {},
     "output_type": "display_data"
    }
   ],
   "source": [
    "# Visualize learned coefficients as 28x28 heatmaps and sparsity\n",
    "import numpy as np\n",
    "import matplotlib.pyplot as plt\n",
    "\n",
    "coef_maps = {\n",
    "    'OLS': coef_dict['OLS'].reshape(28, 28),\n",
    "    'RidgeCV': coef_dict['RidgeCV'].reshape(28, 28),\n",
    "    'LassoCV': coef_dict['LassoCV'].reshape(28, 28),\n",
    "}\n",
    "\n",
    "vmax = max(np.max(np.abs(c)) for c in coef_maps.values())\n",
    "\n",
    "fig, axes = plt.subplots(1, 3, figsize=(12, 4))\n",
    "for ax, (name, coef_map) in zip(axes, coef_maps.items()):\n",
    "    im = ax.imshow(coef_map, cmap='bwr', vmin=-vmax, vmax=vmax)\n",
    "    ax.set_title(name)\n",
    "    # Remove the axis('off') call that was hiding the spines\n",
    "    ax.set_xticks([])\n",
    "    ax.set_yticks([])\n",
    "    # Add black outline\n",
    "    for spine in ax.spines.values():\n",
    "        spine.set_visible(True)\n",
    "        spine.set_color('black')\n",
    "        spine.set_linewidth(2)\n",
    "\n",
    "# Make room for colorbar by adjusting layout\n",
    "plt.subplots_adjust(bottom=0.15)\n",
    "cbar = fig.colorbar(im, ax=axes.ravel().tolist(), shrink=0.5, orientation='horizontal', pad=0.1)\n",
    "plt.suptitle('Coefficient Heatmaps (weights toward class 1 in red, class 0 in blue)')\n",
    "plt.show()\n",
    "\n",
    "# Sparsity bar plot\n",
    "names = list(coef_dict.keys())\n",
    "sparsity = [np.mean(coef_dict[n] == 0) * 100 for n in names]\n",
    "plt.figure(figsize=(6, 4))\n",
    "plt.bar(names, sparsity, color=['gray', 'steelblue', 'tomato'])\n",
    "plt.ylabel('% zero coefficients')\n",
    "plt.title('Sparsity of learned coefficients (Lasso encourages zeros)')\n",
    "plt.ylim(0, 100)\n",
    "plt.grid(axis='y', alpha=0.3)\n",
    "plt.show()\n"
   ]
  },
  {
   "cell_type": "markdown",
   "id": "98503d01",
   "metadata": {},
   "source": [
    "**Here we see that lasso has identified that the key positions for distinguishing a 1 from a 0 are right in the middle of the image, which makes a lot of sense!\n",
    "**\n",
    "Linear regression is also easily extendable with artificial features to “other types” of regression. If data is suspected to be related by a parabola instead of by a line, one can simply square all of the data into new columns, and perform linear regression. Where the typical linear regression maximizes the typical $y = mx+b$, regression with squared features approximates this\n",
    "\n",
    "$$\n",
    "y=mx+nx^2+b\n",
    "$$\n",
    "\n",
    "where $m$ and $n$ are approximated for the best fit. This is extendable to any power of the data $x$. Using lasso can even tell you which polynomial features are actually useful for predicting $y$ and which ones are not. It is further extendible with options like taking features $x$ and raising $e$ to $x$, then you can approximate some more complex functions."
   ]
  },
  {
   "cell_type": "code",
   "execution_count": 28,
   "id": "075bfe17",
   "metadata": {},
   "outputs": [
    {
     "data": {
      "image/png": "[encoded data removed]",
      "text/plain": [
       "<Figure size 1200x400 with 2 Axes>"
      ]
     },
     "metadata": {},
     "output_type": "display_data"
    },
    {
     "name": "stdout",
     "output_type": "stream",
     "text": [
      "Linear regression: 0.3765\n",
      "Linear regresssion with polynomial features: 0.0078\n",
      "\n",
      "Polynomial features created: ['X' 'X^2']\n"
     ]
    }
   ],
   "source": [
    "# Create a simple polynomial regression example with synthetic data\n",
    "import numpy as np\n",
    "import matplotlib.pyplot as plt\n",
    "from sklearn.preprocessing import PolynomialFeatures\n",
    "from sklearn.linear_model import LinearRegression\n",
    "from sklearn.metrics import mean_squared_error\n",
    "\n",
    "# Generate simple synthetic data that follows a quadratic relationship\n",
    "np.random.seed(42)\n",
    "X_simple = np.random.uniform(-2, 2, 100).reshape(-1, 1)\n",
    "y_simple = 0.5 * X_simple.ravel()**2 + 0.3 * X_simple.ravel() + np.random.normal(0, 0.1, 100)\n",
    "\n",
    "# Compare linear vs polynomial regression\n",
    "# Linear regression (degree 1)\n",
    "linear_reg = LinearRegression()\n",
    "linear_reg.fit(X_simple, y_simple)\n",
    "y_linear_pred = linear_reg.predict(X_simple)\n",
    "\n",
    "# Polynomial regression (degree 2)\n",
    "poly_features = PolynomialFeatures(degree=2, include_bias=False)\n",
    "X_poly = poly_features.fit_transform(X_simple)\n",
    "poly_reg = LinearRegression()\n",
    "poly_reg.fit(X_poly, y_simple)\n",
    "y_poly_pred = poly_reg.predict(X_poly)\n",
    "\n",
    "# Visualize the results\n",
    "plt.figure(figsize=(12, 4))\n",
    "\n",
    "plt.subplot(1, 2, 1)\n",
    "plt.scatter(X_simple, y_simple, alpha=0.6, label='Data')\n",
    "sort_idx = np.argsort(X_simple.ravel())\n",
    "plt.plot(X_simple[sort_idx], y_linear_pred[sort_idx], 'r-', label='Linear fit', linewidth=2)\n",
    "plt.xlabel('X')\n",
    "plt.ylabel('y')\n",
    "plt.title('Linear regression')\n",
    "plt.legend()\n",
    "plt.grid(True, alpha=0.3)\n",
    "\n",
    "plt.subplot(1, 2, 2)\n",
    "plt.scatter(X_simple, y_simple, alpha=0.6, label='Data')\n",
    "plt.plot(X_simple[sort_idx], y_poly_pred[sort_idx], 'g-', label='Polynomial fit (degree 2)', linewidth=2)\n",
    "plt.xlabel('X')\n",
    "plt.ylabel('y')\n",
    "plt.title('\"Linear\" regression with polynomial features')\n",
    "plt.legend()\n",
    "plt.grid(True, alpha=0.3)\n",
    "\n",
    "plt.tight_layout()\n",
    "plt.show()\n",
    "\n",
    "# Compare performance\n",
    "print(f\"Linear regression: {mean_squared_error(y_simple, y_linear_pred):.4f}\")\n",
    "print(f\"Linear regresssion with polynomial features: {mean_squared_error(y_simple, y_poly_pred):.4f}\")\n",
    "print(f\"\\nPolynomial features created: {poly_features.get_feature_names_out(['X'])}\")"
   ]
  },
  {
   "cell_type": "markdown",
   "id": "41e943c8",
   "metadata": {},
   "source": [
    "**It is easy to see that the toolbox of linear regression, penalized regression, and feature manipulation can be applied in a huge variety of situations.** "
   ]
  },
  {
   "cell_type": "markdown",
   "id": "867aee7b",
   "metadata": {},
   "source": [
    "### Support Vector Machines (SVMs)"
   ]
  },
  {
   "cell_type": "markdown",
   "id": "ed7386e1",
   "metadata": {},
   "source": [
    "SVMs (sometimes SVC) are a powerful algorithm for classification tasks that works by finding the hyperplane that best separates the data points into different classes. SVMs are particularly effective for data with a clear margin of separation between classes.\n",
    "\n",
    "The actual algorithm is quite involved, but the basic idea is best realized when thinking about 2D data. Separable 2D data points can clearly be segmented with a line.\n",
    "\n",
    "Imagine you have 2D data where two classes can be separated by a straight line. There are typically many possible lines that could separate the classes, but SVM chooses the line (or, more generally, hyperplane in higher dimensions) that maximizes the distance (margin) between itself and the closest data points from either class. This maximized margin tends to improve the classifier’s generalizability.\n",
    "\n",
    "When the data are not perfectly separable, SVMs introduce a concept called the *soft margin*, which allows some misclassification in order to maintain a large overall margin. In these cases, a regularization parameter $C$ is used to balance the trade-off between a wide margin and classification errors.\n",
    "\n",
    "<img src=\"assets/svms_1.png\">\n",
    "\n",
    "https://geekflare.com/support-vector-machine/\n",
    "\n",
    "This logic holds for high-dimensional space too. If your dataset has 20,000 features (like 20,000 gene counts) describing two separable phenotypes, a 19,999-dimensional “line” should be able to separate the data points. This object is called a hyperplane, and it is always 1 dimension less than the feature space. SVM works to optimize the hyperplane and the margin of classification: the region around the “line” that dictates what points get classified as what. SVM can also be done with more complex functions or kernels as well, making for an extremely powerful classifier.\n",
    "\n",
    "<img src=\"assets/svm_2.png\">\n",
    "\n",
    "https://scikit-learn.org/stable/modules/svm.html\n",
    "\n",
    "So what would some SVM code look like?"
   ]
  },
  {
   "cell_type": "code",
   "execution_count": 29,
   "id": "9ff681ec",
   "metadata": {},
   "outputs": [
    {
     "name": "stdout",
     "output_type": "stream",
     "text": [
      "Accuracy: 1.0\n",
      "              precision    recall  f1-score   support\n",
      "\n",
      "           0       1.00      1.00      1.00        17\n",
      "           1       1.00      1.00      1.00        13\n",
      "\n",
      "    accuracy                           1.00        30\n",
      "   macro avg       1.00      1.00      1.00        30\n",
      "weighted avg       1.00      1.00      1.00        30\n",
      "\n"
     ]
    },
    {
     "data": {
      "image/png": "[encoded data removed]",
      "text/plain": [
       "<Figure size 640x480 with 1 Axes>"
      ]
     },
     "metadata": {},
     "output_type": "display_data"
    }
   ],
   "source": [
    "import numpy as np\n",
    "import matplotlib.pyplot as plt\n",
    "from sklearn import datasets\n",
    "from sklearn.svm import SVC\n",
    "from sklearn.model_selection import train_test_split\n",
    "from sklearn.metrics import accuracy_score, classification_report\n",
    "\n",
    "# Load the iris dataset\n",
    "iris = datasets.load_iris()\n",
    "X = iris.data[:, :2]  # using only the first two features for easier visualization\n",
    "y = iris.target\n",
    "\n",
    "# For binary classification, select only two classes (e.g., classes 0 and 1)\n",
    "binary_idx = np.where(y != 2)\n",
    "X = X[binary_idx]\n",
    "y = y[binary_idx]\n",
    "\n",
    "# Split into training and testing datasets\n",
    "X_train, X_test, y_train, y_test = train_test_split(X, y, test_size=0.3, random_state=42)\n",
    "\n",
    "# Initialize and train the SVM classifier with an RBF kernel\n",
    "svm_clf = SVC(kernel='rbf', C=1.0, gamma='scale')\n",
    "svm_clf.fit(X_train, y_train)\n",
    "\n",
    "# Predict on the test set and evaluate\n",
    "y_pred = svm_clf.predict(X_test)\n",
    "print(\"Accuracy:\", accuracy_score(y_test, y_pred))\n",
    "print(classification_report(y_test, y_pred))\n",
    "\n",
    "# Visualize the decision boundary\n",
    "def plot_decision_boundary(clf, X, y, title=\"SVM Decision Boundary\"):\n",
    "    # Create a mesh to plot in\n",
    "    x_min, x_max = X[:, 0].min() - 1, X[:, 0].max() + 1\n",
    "    y_min, y_max = X[:, 1].min() - 1, X[:, 1].max() + 1\n",
    "    xx, yy = np.meshgrid(np.linspace(x_min, x_max, 500),\n",
    "                         np.linspace(y_min, y_max, 500))\n",
    "    Z = clf.predict(np.c_[xx.ravel(), yy.ravel()])\n",
    "    Z = Z.reshape(xx.shape)\n",
    "    \n",
    "    # Plotting\n",
    "    plt.contourf(xx, yy, Z, alpha=0.3, cmap=plt.cm.coolwarm)\n",
    "    plt.scatter(X[:, 0], X[:, 1], c=y, s=50, edgecolors='k', cmap=plt.cm.coolwarm)\n",
    "    plt.title(title)\n",
    "    plt.xlabel(\"Feature 1\")\n",
    "    plt.ylabel(\"Feature 2\")\n",
    "    plt.show()\n",
    "\n",
    "plot_decision_boundary(svm_clf, X, y, title=\"SVM with RBF Kernel on Iris Data\")"
   ]
  },
  {
   "cell_type": "markdown",
   "id": "7caaa7d0",
   "metadata": {},
   "source": [
    "### K-Nearest Neighbors (KNN)"
   ]
  },
  {
   "cell_type": "markdown",
   "id": "68ae7c25",
   "metadata": {},
   "source": [
    "KNN is a non-parametric algorithm for classification and regression tasks. It works by finding the $K$-nearest neighbors to a given data point in the feature space and predicting the output based on the labels of those neighbors.\n",
    "\n",
    "The typical criteria for classification is Euclidean distance:\n",
    "\n",
    "$$\n",
    "dist_{Euc}(p,q) = \\sqrt{\\sum_{i=1}^n(p_i-q_i)^2}\n",
    "$$\n",
    "\n",
    "Any two objects $*p$* and $*q$* in the training set are embedded in an $*n*$-dimensional space and the class of an object in the test set is determined to be the most common class of its closest $*k$* neighbors. When two objects are compared, each having $*n$* features, each object $*j$* is assigned to the class of neighbors $*c$* depending on the largest probability. - [Paper](https://www.nature.com/articles/s41598-023-28965-7)\n",
    "\n",
    "$$\n",
    "P(y=j|C=c) = \\frac{1}{k}\\sum_{i\\in A}I(y^i=j)\n",
    "$$\n",
    "\n",
    "The easy way to grasp KNN is assuming $K$ to be a small number, let’s say 5, and going through an example. We are trying classify a point, $(x, y)$. If we are using 5-nearest neighbors, we will find the 5 closest points to $(x, y)$ and look at which class are they. Let’s say 4 are class $A$ and 1 is class $B$. 4 is the clear majority, so we assume $(x, y$) to be $A$. That’s exactly what KNN does but at a large scale. It works remarkably well if $K$ is chosen rigorously with cross-validation.\n",
    "\n",
    "\n",
    "<img src=\"assets/knn_example.png\">\n",
    "\n",
    "https://github.com/Robots-Vision/knn-examples\n",
    "\n",
    "Data that is easily classified with a low $K$ value is intuitively separable (in distinct groups in Euclidean space), implying SVMs would also work well on that datatype and may even hint that an ensemble of them both may work extremely well.\n",
    "\n",
    "Let’s look at some KNN python:"
   ]
  },
  {
   "cell_type": "code",
   "execution_count": 30,
   "id": "05871c7b",
   "metadata": {},
   "outputs": [
    {
     "name": "stdout",
     "output_type": "stream",
     "text": [
      "KNN Classifier Accuracy: 1.0\n"
     ]
    }
   ],
   "source": [
    "# Classification\n",
    "from sklearn.datasets import load_iris\n",
    "from sklearn.neighbors import KNeighborsClassifier\n",
    "from sklearn.model_selection import train_test_split\n",
    "from sklearn.metrics import accuracy_score\n",
    "\n",
    "# Load the iris dataset\n",
    "iris = load_iris()\n",
    "X = iris.data\n",
    "y = iris.target\n",
    "\n",
    "# Split the dataset into training and test sets\n",
    "X_train, X_test, y_train, y_test = train_test_split(X, y, test_size=0.3, random_state=42)\n",
    "\n",
    "# Initialize and fit the KNN classifier with K=5\n",
    "knn = KNeighborsClassifier(n_neighbors=5)\n",
    "knn.fit(X_train, y_train)\n",
    "\n",
    "# Predict on the test set and evaluate\n",
    "y_pred = knn.predict(X_test)\n",
    "print(\"KNN Classifier Accuracy:\", accuracy_score(y_test, y_pred))"
   ]
  },
  {
   "cell_type": "code",
   "execution_count": 31,
   "id": "ba6dd05e",
   "metadata": {},
   "outputs": [
    {
     "name": "stdout",
     "output_type": "stream",
     "text": [
      "KNN Regressor MSE: 340.5958321195219\n"
     ]
    }
   ],
   "source": [
    "# Regression\n",
    "from sklearn.datasets import make_regression\n",
    "from sklearn.neighbors import KNeighborsRegressor\n",
    "\n",
    "# Generate synthetic regression data\n",
    "X_reg, y_reg = make_regression(n_samples=200, n_features=1, noise=10, random_state=42)\n",
    "\n",
    "# Split the dataset\n",
    "X_reg_train, X_reg_test, y_reg_train, y_reg_test = train_test_split(X_reg, y_reg, test_size=0.3, random_state=42)\n",
    "\n",
    "# Initialize and fit the KNN regressor with K=5\n",
    "knn_reg = KNeighborsRegressor(n_neighbors=5)\n",
    "knn_reg.fit(X_reg_train, y_reg_train)\n",
    "\n",
    "# Predict and evaluate using Mean Squared Error\n",
    "y_reg_pred = knn_reg.predict(X_reg_test)\n",
    "mse = mean_squared_error(y_reg_test, y_reg_pred)\n",
    "print(\"KNN Regressor MSE:\", mse)"
   ]
  },
  {
   "cell_type": "markdown",
   "id": "cd2707dc",
   "metadata": {},
   "source": [
    "### Ensembles"
   ]
  },
  {
   "cell_type": "markdown",
   "id": "e04f9a19",
   "metadata": {},
   "source": [
    "Choosing an optimal ML model is difficult. The **No Free Lunch theorem** shows that there is no single model that is better for every dataset—in fact, every model performs equally well when averaged over an infinite variety of data. Ensembles, which are composed of multiple models, are one way to overcome this limitation.\n",
    "\n",
    "The basic idea behind ensemble methods is to let multiple models (or \"learners\") work together and then combine their outputs. A common approach is to have each model provide a prediction based on the input features and then use a **majority vote** to determine the final prediction. This is called **hard voting**. An alternative is **soft voting**, where models output class probabilities that are averaged to make a decision, allowing for weighted contributions based on each model’s confidence.\n",
    "\n",
    "For example, using scikit-learn’s VotingClassifier:"
   ]
  },
  {
   "cell_type": "code",
   "execution_count": 32,
   "id": "45b569a9",
   "metadata": {},
   "outputs": [
    {
     "name": "stdout",
     "output_type": "stream",
     "text": [
      "Hard voting ensemble accuracy: 1.0\n"
     ]
    }
   ],
   "source": [
    "from sklearn.linear_model import LogisticRegression\n",
    "from sklearn.tree import DecisionTreeClassifier\n",
    "from sklearn.svm import SVC\n",
    "from sklearn.ensemble import VotingClassifier\n",
    "from sklearn.model_selection import train_test_split\n",
    "from sklearn.datasets import load_iris\n",
    "\n",
    "# Load sample data\n",
    "data = load_iris()\n",
    "X, y = data.data, data.target\n",
    "X_train, X_test, y_train, y_test = train_test_split(X, y, random_state=42)\n",
    "\n",
    "# Define individual classifiers\n",
    "clf1 = LogisticRegression(max_iter=200)\n",
    "clf2 = DecisionTreeClassifier()\n",
    "clf3 = SVC(probability=True)\n",
    "\n",
    "# Create a hard voting ensemble\n",
    "voting_clf = VotingClassifier(\n",
    "    estimators=[('lr', clf1), ('dt', clf2), ('svc', clf3)],\n",
    "    voting='hard'\n",
    ")\n",
    "\n",
    "voting_clf.fit(X_train, y_train)\n",
    "print(\"Hard voting ensemble accuracy:\", voting_clf.score(X_test, y_test))"
   ]
  },
  {
   "cell_type": "markdown",
   "id": "f1614733",
   "metadata": {},
   "source": [
    "More advanced ensemble methods include:\n",
    "\n",
    "1. **Bagging**: Training multiple models on different random subsets of the data (with replacement) and combining the results. This reduces variance and helps prevent overfitting.\n",
    "2. **Boosting**: Training models sequentially so that each subsequent model focuses on the errors made by the previous ones. Popular algorithms include AdaBoost and Gradient Boosting.\n",
    "3. **Stacking**: Combining the outputs of multiple base models by feeding them into a higher-level “meta-model” that learns to best combine these predictions.\n",
    "\n",
    "For instance, here’s how you might implement a stacking classifier:"
   ]
  },
  {
   "cell_type": "code",
   "execution_count": 33,
   "id": "8d82546e",
   "metadata": {},
   "outputs": [
    {
     "name": "stdout",
     "output_type": "stream",
     "text": [
      "Stacking ensemble accuracy: 1.0\n"
     ]
    }
   ],
   "source": [
    "from sklearn.ensemble import StackingClassifier\n",
    "from sklearn.ensemble import RandomForestClassifier\n",
    "from sklearn.linear_model import LogisticRegression\n",
    "\n",
    "estimators = [\n",
    "    ('lr', LogisticRegression(max_iter=200)),\n",
    "    ('dt', DecisionTreeClassifier())\n",
    "]\n",
    "\n",
    "stacking_clf = StackingClassifier(\n",
    "    estimators=estimators,\n",
    "    final_estimator=RandomForestClassifier(n_estimators=50, random_state=42)\n",
    ")\n",
    "\n",
    "stacking_clf.fit(X_train, y_train)\n",
    "print(\"Stacking ensemble accuracy:\", stacking_clf.score(X_test, y_test))"
   ]
  },
  {
   "cell_type": "markdown",
   "id": "90d6d681",
   "metadata": {},
   "source": [
    "### Random forests\n",
    "\n",
    "**Random forests** are a popular ensemble learning algorithm that combine multiple decision trees to improve prediction accuracy and reduce overfitting. Each tree is trained on a **bootstrap sample**—a random subset of the data sampled with replacement—and at each split in the tree, a random subset of features is considered. For example, if you have mm features, it is common to use around m\\sqrt{m} features at each node for classification.\n",
    "\n",
    "How Random Forests Work\n",
    "\n",
    "1. **Bootstrap Sampling**: Given $N$ data instances, each tree is built from a bootstrap sample (i.e., selecting $N$ instances with replacement). Some points may be repeated, and some may be left out.\n",
    "2. **Random Feature Selection**: At each node, a subset of features is randomly chosen to determine the best split. This increases diversity among trees.\n",
    "3. **Aggregation**:\n",
    "    - For **regression**, the prediction for a new instance is the average of the predictions from all trees:\n",
    "        \n",
    "        $Pj = \\frac{1}{n}∑_{i=1}^n p_j^i$\n",
    "        \n",
    "    - For **classification**, the final prediction is typically determined by majority vote:\n",
    "        \n",
    "        $P_j = \\text{mode} \\{p_j^1, p_j^2, \\dots, p_j^n\\}$\n",
    "        \n",
    "Here’s how you can use a random forest for classification with scikit-learn:"
   ]
  },
  {
   "cell_type": "code",
   "execution_count": 34,
   "id": "d16a3acb",
   "metadata": {},
   "outputs": [
    {
     "name": "stdout",
     "output_type": "stream",
     "text": [
      "Random Forest accuracy: 1.0\n",
      "Out-of-bag score: 0.9464285714285714\n"
     ]
    }
   ],
   "source": [
    "from sklearn.ensemble import RandomForestClassifier\n",
    "\n",
    "rf = RandomForestClassifier(n_estimators=100, random_state=42, oob_score=True)\n",
    "rf.fit(X_train, y_train)\n",
    "y_pred = rf.predict(X_test)\n",
    "print(\"Random Forest accuracy:\", rf.score(X_test, y_test))\n",
    "print(\"Out-of-bag score:\", rf.oob_score_)"
   ]
  },
  {
   "cell_type": "code",
   "execution_count": 35,
   "id": "57479ce6",
   "metadata": {},
   "outputs": [],
   "source": [
    "from sklearn.ensemble import RandomForestRegressor\n",
    "\n",
    "rf_reg = RandomForestRegressor(n_estimators=100, random_state=42)\n",
    "rf_reg.fit(X_train, y_train)\n",
    "y_pred_reg = rf_reg.predict(X_test)"
   ]
  },
  {
   "cell_type": "markdown",
   "id": "f822c5e4",
   "metadata": {},
   "source": [
    "Random forests are robust against overfitting and tend to perform better than individual decision trees because they average out errors and reduce variance."
   ]
  },
  {
   "cell_type": "markdown",
   "id": "367bbfde",
   "metadata": {},
   "source": [
    "## Unsupervised"
   ]
  },
  {
   "cell_type": "markdown",
   "id": "d868312d",
   "metadata": {},
   "source": [
    "### KMeans\n",
    "\n",
    "**KMeans** is an unsupervised algorithm used for clustering data into kk groups based on similarity. The algorithm works as follows:\n",
    "\n",
    "1. **Initialization**: Randomly select $k$ centroids.\n",
    "2. **Assignment**: Assign each data point to the nearest centroid.\n",
    "3. **Update**: Recalculate centroids as the mean of all points assigned to each cluster.\n",
    "4. **Iteration**: Repeat the assignment and update steps until the centroids stabilize or a maximum number of iterations is reached.\n",
    "\n",
    "KMeans is often used in applications like transcriptomic cell type segmentation, image processing, and anomaly detection. The algorithm essentially finds the most \"intuitive\" grouping of the data when you expect it to naturally fall into kk clusters. It is common practice to run KMeans with different values of kk and analyze metrics such as **inertia** (sum of squared distances) and the **silhouette score** to help determine the optimal number of clusters."
   ]
  },
  {
   "cell_type": "code",
   "execution_count": 36,
   "id": "36075f85",
   "metadata": {},
   "outputs": [
    {
     "data": {
      "image/png": "[encoded data removed]",
      "text/plain": [
       "<Figure size 1200x500 with 2 Axes>"
      ]
     },
     "metadata": {},
     "output_type": "display_data"
    }
   ],
   "source": [
    "from sklearn.cluster import KMeans\n",
    "from sklearn.metrics import silhouette_score\n",
    "import matplotlib.pyplot as plt\n",
    "\n",
    "# Assume X is your dataset\n",
    "inertias = []\n",
    "silhouette_scores = []\n",
    "ks = range(2, 11)\n",
    "\n",
    "for k in ks:\n",
    "    kmeans = KMeans(n_clusters=k, random_state=42)\n",
    "    clusters = kmeans.fit_predict(X)\n",
    "    inertias.append(kmeans.inertia_)\n",
    "    silhouette_scores.append(silhouette_score(X, clusters))\n",
    "\n",
    "# Plotting the Elbow Graph (Inertia)\n",
    "plt.figure(figsize=(12, 5))\n",
    "plt.subplot(1, 2, 1)\n",
    "plt.plot(ks, inertias, marker='o')\n",
    "plt.xlabel('Number of clusters, k')\n",
    "plt.ylabel('Inertia')\n",
    "plt.title('Elbow Method')\n",
    "\n",
    "# Plotting the Silhouette Graph\n",
    "plt.subplot(1, 2, 2)\n",
    "plt.plot(ks, silhouette_scores, marker='o')\n",
    "plt.xlabel('Number of clusters, k')\n",
    "plt.ylabel('Silhouette Score')\n",
    "plt.title('Silhouette Analysis')\n",
    "plt.show()\n"
   ]
  },
  {
   "cell_type": "markdown",
   "id": "a0dddc3c",
   "metadata": {},
   "source": [
    "Interpreting these graphs can be challenging, but for example, if you observe that inertia is high and there is a significant jump in the silhouette score at k=3, this may suggest that 3 clusters best capture the structure of your data.\n",
    "\n",
    "<img src=\"assets/kmeans.webp\">\n",
    "\n",
    "Elbow and Silhouette graphs on biological data, k’s 2-50. https://www.nature.com/articles/s41598-023-28965-7"
   ]
  },
  {
   "cell_type": "markdown",
   "id": "57f75112",
   "metadata": {},
   "source": [
    "### PCA (Principal Component Analysis)\n",
    "\n",
    "**PCA** is a dimensionality reduction technique that transforms a set of variables into a new set of variables called **principal components**. These components are linear combinations of the original variables and are ordered by the amount of variance they explain in the data. The first principal component explains the most variance, the second explains the next most, and so on. PCA is useful for reducing the number of features in a dataset, identifying patterns, and visualizing high-dimensional data.\n",
    "\n",
    "### The Mathematics Behind PCA\n",
    "\n",
    "The PCA process often involves an eigen decomposition of the covariance matrix. Given a centered data matrix XX (with nn rows and pp columns), we compute:\n",
    "\n",
    "$X^TX=UδU^T$\n",
    "\n",
    "where:\n",
    "\n",
    "- $U$ is an orthogonal matrix whose columns are the eigenvectors,\n",
    "- $δ$ is a diagonal matrix containing the eigenvalues.\n",
    "\n",
    "Multiplying $X$ by $U$ yields the principal components along the columns:\n",
    "\n",
    "$\\text{PCs} = XU$\n",
    "\n",
    "The variance that the $i$th principal component contributes to the data is the $i$th eigenvalue of $X^TX$.\n",
    "\n",
    "### Code Example\n",
    "\n",
    "Here’s how to perform PCA using scikit-learn and visualize the results in 2D:"
   ]
  },
  {
   "cell_type": "code",
   "execution_count": 37,
   "id": "50f5c4da",
   "metadata": {},
   "outputs": [
    {
     "name": "stdout",
     "output_type": "stream",
     "text": [
      "Explained variance ratio: [0.92461872 0.05306648]\n"
     ]
    },
    {
     "data": {
      "image/png": "[encoded data removed]",
      "text/plain": [
       "<Figure size 800x600 with 1 Axes>"
      ]
     },
     "metadata": {},
     "output_type": "display_data"
    }
   ],
   "source": [
    "from sklearn.decomposition import PCA\n",
    "\n",
    "# Reduce the dataset to 2 principal components for visualization\n",
    "pca = PCA(n_components=2)\n",
    "X_pca = pca.fit_transform(X)\n",
    "\n",
    "print(\"Explained variance ratio:\", pca.explained_variance_ratio_)\n",
    "\n",
    "# Plot the 2D projection\n",
    "plt.figure(figsize=(8, 6))\n",
    "plt.scatter(X_pca[:, 0], X_pca[:, 1], c='blue', edgecolor='k', s=50, alpha=0.7)\n",
    "plt.xlabel('Principal Component 1')\n",
    "plt.ylabel('Principal Component 2')\n",
    "plt.title('PCA Projection')\n",
    "plt.show()\n"
   ]
  },
  {
   "cell_type": "markdown",
   "id": "8ed5d818",
   "metadata": {},
   "source": [
    "For those interested in the inner workings of PCA, here’s how you might compute it manually using NumPy:"
   ]
  },
  {
   "cell_type": "code",
   "execution_count": 38,
   "id": "bfabe2b0",
   "metadata": {},
   "outputs": [],
   "source": [
    "import numpy as np\n",
    "\n",
    "# Center the data\n",
    "X_centered = X - np.mean(X, axis=0)\n",
    "\n",
    "# Compute the covariance matrix\n",
    "cov_matrix = np.cov(X_centered, rowvar=False)\n",
    "\n",
    "# Compute eigenvalues and eigenvectors\n",
    "eigenvalues, eigenvectors = np.linalg.eig(cov_matrix)\n",
    "\n",
    "# Sort the eigenvectors by descending eigenvalues\n",
    "idx = np.argsort(eigenvalues)[::-1]\n",
    "eigenvalues = eigenvalues[idx]\n",
    "eigenvectors = eigenvectors[:, idx]\n",
    "\n",
    "# The principal components\n",
    "X_manual_pca = np.dot(X_centered, eigenvectors)"
   ]
  },
  {
   "cell_type": "markdown",
   "id": "0c7de90d",
   "metadata": {},
   "source": [
    "This manual approach shows that PCA is rooted in linear algebra concepts such as eigen decomposition and helps explain why PCA is so effective at capturing the variance in the data with fewer dimensions.\n",
    "\n",
    "<img src=\"assets/pca_lh.png\" width=500>\n",
    "\n",
    "PCA of 64 dimensional data onto 2D. https://www.nature.com/articles/s41598-023-28965-7/figures/3"
   ]
  },
  {
   "cell_type": "markdown",
   "id": "e81c88f0",
   "metadata": {},
   "source": [
    "Here is another PCA graph that shows very distinct clustering in 2D space, this is RNAseq data:\n",
    "\n",
    "<img src=\"assets/pca_2.png\">\n",
    "\n",
    "https://hbctraining.github.io/DGE_workshop/lessons/03_DGE_QC_analysis.html"
   ]
  },
  {
   "cell_type": "markdown",
   "id": "ab6e189a",
   "metadata": {},
   "source": [
    "## Neural networks"
   ]
  },
  {
   "cell_type": "markdown",
   "id": "3800ab1e",
   "metadata": {},
   "source": [
    "Neural networks are a class of ML algorithms that are inspired by the structure and function of the human brain. They are composed of interconnected artificial neurons organized in **layers**, and they learn to make predictions or classifications by adjusting the strength of the connections between the neurons.\n",
    "\n",
    "The major components of a neural network include:\n",
    "\n",
    "Artificial neurons: \n",
    "\n",
    "These are the basic units of computation in a neural network, and they receive input signals, apply a function to the input, and produce an output. The output is then passed on to the next layer of neurons.\n",
    "\n",
    "Weights:\n",
    "\n",
    "These are the **parameters** that determine the strength of the connections between the neurons. During training, the weights are adjusted to minimize the error between the predicted output and the true output.\n",
    "\n",
    "<img src=\"assets/nn_1.png\" width=500>\n",
    "\n",
    "https://jalammar.github.io/visual-interactive-guide-basics-neural-networks/\n",
    "\n",
    "For example, if the output was too big, the weights will be adjusted to make the output smaller. Doing this many times with many weights produces a generalizable model. A large compilation of artificial neurons can be used for a massive variety of tasks, all only differing by which weights are found during the training process.\n",
    "\n",
    "Examples of different outputs on the same network with different weights:\n",
    "\n",
    "<img src=\"assets/nn_2.png\" width=500>\n",
    "\n",
    "https://writings.stephenwolfram.com/2023/02/what-is-chatgpt-doing-and-why-does-it-work/\n",
    "\n",
    "Activation functions:\n",
    "\n",
    "These functions are applied to the output of each neuron to introduce nonlinearity into the network, allowing for a more flexible network of possible predictions. Common [activation functions](https://pytorch.org/docs/stable/nn.html#non-linear-activations-weighted-sum-nonlinearity) include the sigmoid function, the hyperbolic tangent function, and the rectified linear unit (ReLU) function.\n",
    "\n",
    "<img src=\"assets/nn_3.png\" width=500>\n",
    "\n",
    "https://www.v7labs.com/blog/neural-network-architectures-guide\n",
    "\n",
    "ReLU is the simplest activation function. If the sum of inputs on the neuron is less than 0, the neuron does not “fire;” A value of 0 is output. If the sum of inputs on the neuron is greater than 0, that value is passed on; the neuron “fires.”\n",
    "\n",
    "<img src=\"assets/nn_4.png\" width=500>\n",
    "\n",
    "Other activation functions give smoother outputs, or outputs approximating a probability of an outcome. Because of the variability in the weights, the activation function of choice is more of an advanced and nuanced concept, and ReLU is fine to use most of the time.\n",
    "\n",
    "Softmax and Sigmoid:\n",
    "\n",
    "The sigmoid activation function takes a real-valued input and maps it to a value between 0 and 1. This function is often used to approximate the probability of an input belonging to a particular class.\n",
    "\n",
    "As a function sigmoid is expressed as the following\n",
    "\n",
    "$$\n",
    "Sigmoid = \\frac{1}{1+e^{-x}}\n",
    "$$\n",
    "\n",
    "where $x$ is a numerical input.\n",
    "\n",
    "Softmax, on the other hand, takes a vector input and maps it in a way that the sum of the vector equals 1. It also approximates probability, but for multiple classes instead of just two. Softmax first applies the sigmoid function to each element of the vector to map them to the $[0,1]$ range. Then it transforms the data within the $[0, \\inf]$ range. Finally, it divides each element by the sum of all elements to obtain the probability of each element.\n",
    "\n",
    "As a function softmax is expressed as the following\n",
    "\n",
    "$$\n",
    "Softmax = \\frac{e^{x_i}}{\\sum_{j=1}^Ke^{x_j}}\n",
    "$$\n",
    "\n",
    "for the $i$th index of the input vector.\n",
    "\n",
    "<img src=\"assets/nn_5.png\" width=500>\n",
    "\n",
    "https://towardsdatascience.com/sigmoid-and-softmax-functions-in-5-minutes-f516c80ea1f9\n",
    "\n",
    "Loss functions:\n",
    "\n",
    "These functions measure the difference between the predicted output and the true output, **the error in trial and error**. In other words, how well a model did on a specific prediction. This is provided as a signal to the network to adjust its weights and get better at predictions in the future. Common [loss functions](https://pytorch.org/docs/stable/nn.html#loss-functions) include mean squared error, cross-entropy loss, and binary cross-entropy loss.\n",
    "\n",
    "$$\n",
    "MSE =\\frac{1}{N}\\sum_{i=1}^N(f_i-y_i)^2\n",
    "$$\n",
    "\n",
    "where $N$ is the number of data points, $f_i$ is the value returns from the model (the prediction) and $y_i$ is the actual value for instance $i$.\n",
    "\n",
    "MSE is the simplest loss function. It is literally just taking a prediction $f$, and the actual value $y$, and subtracting. If the difference between the two values is 0, it was a perfect prediction. Therefore, the MSE is minimized to get as close to 0 as possible.  The sum is divided by $N$ ensure this is the average error of the predictions. The loss function is a vital choice depending on the different tasks at hand, and it is often necessary to try several for a complex model.\n",
    "\n",
    "Gradient descent:\n",
    "\n",
    "This is the optimization algorithm used to adjust the weights in the network during training. It works by computing the gradient of the loss function with respect to the weights and updating the weights in the direction of the steepest descent. \n",
    "\n",
    "The best way to visualize this is by looking at the space of weights in relation to the loss function. That is, a function \n",
    "\n",
    "$$\n",
    "L(W) = \\frac{1}{n}\\sum_{\\forall X}{WX},\n",
    "$$\n",
    "\n",
    "where $L$ is the loss function and $W$ is the compilation of weights in your model multiplied by an input $X$. A model may have millions or billions of weights, and picturing a million-dimensional space is not feasible. However, picturing 3D space, 2 weights and the loss value, gives the equivalent idea.\n",
    "\n",
    "<img src=\"assets/nn_6.png\" width=500>\n",
    "\n",
    "https://writings.stephenwolfram.com/2023/02/what-is-chatgpt-doing-and-why-does-it-work/\n",
    "\n",
    "On the left, a 2D grid with values for W1 (weight 1) and W2. The red values are a higher loss function (bad) and the blue values are minimizing the loss function (good). We just need a numerical way to approach the blue reliably. **Turns out, by taking the gradient of the loss with respect to the weights, the negative value of that vector is the direction toward the minimum.** (This is the biggest concept of gradient descent!!!)\n",
    "\n",
    "There are [optimization algorithms](https://pytorch.org/docs/stable/optim.html) that utilize this concept with a **learning rate** to approach the minimum of weights for a given task, including stochastic gradient descent, mini-batch gradient descent, and ADAM. The learning rate dictates how much the weights move each optimizing step. The algorithm of choice and learning rate are important considerations for training a model, and many combinations may need to be tried for a specific model.\n",
    "\n",
    "<img src=\"assets/nn_7.png\" width=500>\n",
    "\n",
    "https://writings.stephenwolfram.com/2023/02/what-is-chatgpt-doing-and-why-does-it-work/\n",
    "\n",
    "Regardless of which learning rate and optimizer is chosen, the new set of weights found by the optimizer need to somehow make there way into the actual model. This process is referred to as backpropagation.\n"
   ]
  },
  {
   "cell_type": "markdown",
   "id": "c7cafe82",
   "metadata": {},
   "source": [
    "### Types of layers\n",
    "\n",
    "Feedforward/Linear Layers:\n",
    "\n",
    "These are the most basic layers of a neural network, where inputs are multiplied by weights and passed through an activation function to produce an output.\n",
    "\n",
    "They are called linear layers because, without activation functions, they are literally the sum of many linear ($y=mx+b$) parts. The addition of bias is [optional](https://towardsdatascience.com/why-we-need-bias-in-neural-networks-db8f7e07cb98) and has nuanced properties, but it generally adds more flexibility to the predictions of the model and is recommended for most networks.\n",
    "\n",
    "<img src=\"assets/ff_1.png\" width=500>\n",
    "\n",
    "<img src=\"assets/ff_2.png\" width=500>\n",
    "\n",
    "https://jalammar.github.io/visual-interactive-guide-basics-neural-networks/\n",
    "\n",
    "Dropout Layers:\n",
    "\n",
    "These layers randomly drop out a percentage of neurons during training to prevent overfitting and encourage the network to learn more robust features. Most large neural networks are actually too big for the amount of training information available to train them. This is a fairly advanced topic discussed below, but playing with dropout rate is a great way to find the optimal model size for your dataset.\n",
    "\n",
    "Particularly in early training, dropout has also recently been shown to prevent **under** fitting by improving gradient descent.\n",
    "\n",
    "<img src=\"assets/dropout.png\" width=500>\n",
    "\n",
    "https://arxiv.org/abs/2303.01500\n",
    "\n",
    "This has introduced the notion of early or late dropout where the percentage of dropouts at different points can influence the performance of the final model.\n",
    "\n",
    "<img src=\"assets/early_dropout.png\" width=500>\n",
    "\n",
    "https://arxiv.org/abs/2303.01500\n",
    "\n",
    "Convolution Layers:\n",
    "\n",
    "Images are a much different datatype than a single feature or number. A 128 x 128 pixel black and white image is represented by a 128 x 128 matrix with an intensity at each position. A colored image is a 128 x 128 x 3 array (a word typically used for multidimensional matrix), where each number in the 128 x 128 portions represents the red, green, and blue intensities respectively.\n",
    "\n",
    "Thus, operations that can act on a section of a matrix or an entire matrix at a time are valuable for image-related tasks. Convolution is an operation that does just that. By applying a filter to an image in a rolling pattern convolution can pick features out of an image.\n",
    "\n",
    "Applying a filter\n",
    "<img src=\"assets/conv_1.png\" width=500>\n",
    "\n",
    "Rolling pattern across entire image\n",
    "<img src=\"assets/conv_2.png\" width=500>\n",
    "\n",
    "You might notice the initial image and filtered image are the same shapes even though a 3x3 filter is projected to a 1x1. That’s because there is an added pixel around the edges called padding, which typically has a value of 0. This is important when designing convolutional operations where the size of the image needs to be constant; this is discussed further in the computer vision section below.\n",
    "\n",
    "Other hyperparameters that you can choose include the kernel size (3x3 vs 4x4 etc.), stride rate (how many pixels to move after each projection), and even the sparsity of the kernel (use all pixels in the 3x3, or just the edges, or a star etc.).\n",
    "\n",
    "Different filters (kernels) pull different features form an image, * here refers to convolution\n",
    "<img src=\"assets/conv_3.png\" width=500>\n",
    "\n",
    "Convolution examples provided by Dr. Dominique Guillot\n",
    "\n",
    "What makes convolution layers powerful, however, is the fact that they learn the best filter or kernel for the given application. If the edges of objects are vital to segmenting an image, for example, the learned filter through convolution might resemble the edge detection filter above. This is done by treating the numbers of the filter matrices are weights, and learning them through gradient descent. In summary, convolutional layers provide a set of learnable filters to the input, capturing image features, spatial patterns, and correlations. \n",
    "\n",
    "Recurrent layers:\n",
    "\n",
    "A popular addition to convolutional layers is a recurrent mechanism. Meaning, the same image data is applied through the same convolutional filter multiple times. A recurrent mechanism can be added to many other types of layers as well. This is inspired by how some aspects of the brain function and has been shown to improve performance in many situations. The only change in the code is taking a layer and feeding the output back as the input for $t$ number of times, where $t$ is a hyperparameter to choose.\n",
    "\n",
    "Pooling Layers:\n",
    "\n",
    "These layers reduce the spatial dimensionality of the input by downsampling, often by taking the maximum or average value in a small region. This is a common method to reduce the dimensionality in the decoder section of an image model.\n",
    "\n",
    "<img src=\"assets/pooling.png\" width=500>\n",
    "\n",
    "Upscaling Layers:\n",
    "\n",
    "These layers increase the spatial resolution of the input. They can use different techniques, such as nearest-neighbor interpolation or transposed convolution. This is a common method to increase the dimensionality in the encoder section of an image model.\n",
    "\n",
    "<img src=\"assets/upscale.png\" width=500>\n",
    "\n",
    "https://medium.com/@suryatejamenta/upsampler-and-convolution-transpose-layers-7e4346c05bb6\n",
    "\n",
    "Batch Normalization Layers:\n",
    "\n",
    "These layers normalize the output of a layer by subtracting the mean and dividing by the standard deviation across a mini-batch of inputs (the batch of data fed to the model at one time). This helps stabilize the training process and can improve generalization. The improvements are particularly good when the batch size is large.\n",
    "\n",
    "Skip Connection Layers:\n",
    "\n",
    "These layers allow the input to be passed directly to a later layer, creating a shortcut that can help the network propagate gradients more effectively and avoid the vanishing gradient problem. Because the information is conserved and aggregated throughout the model, the weight space can become dramatically smoother as shown in the image below. This makes for an easier-to-train model that can utilize the input information more effectively.\n",
    "\n",
    "\n",
    "\n",
    "Loss weight landscape of a large convolutional neural network projected to 3D space, with and without skip connections. arXiv:1712.09913v3\n",
    "<img src=\"assets/skip.png\" width=500>\n"
   ]
  },
  {
   "cell_type": "markdown",
   "id": "216e31d9",
   "metadata": {},
   "source": [
    "## Natural language processing"
   ]
  },
  {
   "cell_type": "markdown",
   "id": "fa17cbea",
   "metadata": {},
   "source": [
    "\n",
    "Natural Language Processing (NLP) is a topic that focuses on the interaction between computers and human language. It involves the development of algorithms and techniques to enable computers to understand, interpret, and generate natural language text or speech.\n",
    "\n",
    "At a high level, NLP encompasses various tasks and subfields:\n",
    "\n",
    "1. Text Classification: Text classification focuses on categorizing sections of text into specific classes or categories. It can be used for tasks such as spam detection, topic classification, or sentiment analysis. In sentiment analysis, the objective is to determine the sentiment or opinion expressed in a piece of text, whether it is positive, negative, or neutral. Sentiment analysis finds applications in customer reviews, social media monitoring, and market research.\n",
    "2. Named Entity Recognition (NER): NER involves identifying and extracting specific information from text, such as names of people, organizations, locations, dates, or other predefined entities. It helps in information extraction and understanding the context of text.\n",
    "3. Machine Translation: NLP techniques enable the translation of text or speech from one language to another. Machine translation systems, such as Google Translate, leverage NLP algorithms to process and generate translations.\n",
    "4. Question Answering: NLP models can understand and respond to questions posed in natural language. They analyze the question, search for relevant information, and provide an accurate response. Question answering systems are used in chatbots, virtual assistants, and information retrieval.\n",
    "5. Text Generation: NLP models can generate human-like text by understanding the patterns and structures of the given input. Text generation finds applications in chatbots, creative writing, and content creation.\n",
    "6. Text Summarization: NLP algorithms can extract the most important information from a document and generate concise summaries. Text summarization is useful for condensing lengthy articles, news stories, or research papers.\n",
    "\n",
    "These are just a few examples of the many applications and tasks within the broad field of NLP. The advancements in deep learning and neural networks have significantly improved the performance of NLP models, enablig them to achieve remarkable results in various language-related tasks.\n",
    "\n",
    "In the context of protein language models, we utilize NLP techniques on protein sequences. Proteins are composed of smaller standard units called amino acids and can be organized and classified by their primary sequence: a string of letters where each unique amino acid has its own single-letter identity.\n",
    "\n",
    "Different protein sequences can result is drastically different molecules. That’s because each amino acid is a small chemical with its own properties: they come together to form these tiny molecular machines. The exact details of proteins from their sequence alone is a mystery to a human at a glance. However, with NLP techniques, we can have models that classify proteins based on their sequence. We can make models summarize them, extract features like function and structure, and even generate completely novel sequences to act as drugs or industrial catalysts. There are huge implications for the future of medicine, agriculture, and the climate, with billions (trillions?) of dollars at stake to those that can build the best protein language models (pLMs). So, let’s learn how they work!"
   ]
  },
  {
   "cell_type": "markdown",
   "id": "0ce6a0a2",
   "metadata": {},
   "source": [
    "### Tokenizers\n",
    "\n",
    "Tokenizers are an essential component of NLP systems. They are responsible for breaking down text into individual units called tokens. Tokens are typically words, but they can also be subwords or characters, depending on the granularity required for the task at hand.\n",
    "\n",
    "The process of tokenization involves dividing a continuous stream of text into discrete units. \n",
    "\n",
    "Here are a few types of tokenizers commonly used in NLP:\n",
    "\n",
    "1. Word Tokenizers: Word tokenizers split text into individual words based on spaces or punctuation marks. This approach assumes that words are the primary units of meaning in a language. For example, given the sentence \"The cat is sleeping,\" a word tokenizer would split it into tokens: [\"The\", \"cat\", \"is\", \"sleeping\"].\n",
    "2. Subword Tokenizers: Subword tokenizers split text into subword units that capture partial linguistic information. This approach is useful for handling out-of-vocabulary words, reducing vocabulary size, and handling morphologically rich languages. Popular subword tokenization algorithms include Byte Pair Encoding (BPE), Unigram Language Model, and SentencePiece.\n",
    "3. Character Tokenizers: Character tokenizers treat each character as a separate token. This approach is beneficial when dealing with languages without explicit word boundaries or for character-level modeling tasks.\n",
    "4. Sentence Tokenizers: Sentence tokenizers split text into individual sentences. They identify sentence boundaries based on punctuation marks, capitalization, or specialized language models trained for sentence boundary detection.\n",
    "\n",
    "Tokenization can be influenced by language-specific considerations. For instance, some languages may require additional preprocessing steps to handle specific linguistic phenomena such as compound words, agglutination, or complex sentence structures. For pLMs, we treat amino acids as tokens or “words” and protein sequences as “sentences.” Ex. a protein sequence like \"MVKLTA\" would be tokenized into individual amino acids: 'M', 'V', 'K', 'L', 'T', and 'A'. After tokenization each token gets a unique integer, which serves to represent the index of the embedding vector in the embedding matrix.\n",
    "\n",
    "Special tokens like **`[CLS]`**, **`[SEP]`**, and **`[EOS]`** are often added to sequences of text when prepping them for input into a model. These tokens have specific functions that are understood by the model because of the way it was trained. **`[CLS]`**: Short for \"classification\", the **`[CLS]`** token is used in models such as BERT. It's inserted at the beginning of the sequence. When BERT finishes processing the text, the vector associated with the **`[CLS]`** token is used as the aggregate sequence representation for classification tasks. **`[SEP]`**: This token, short for \"separator\", is used in models that process two sentences as a single input. The two sentences are separated by this **`[SEP]`** token. For example, in BERT, a sequence input might look like **`[CLS] Sentence A [SEP] Sentence B [SEP]`**. For us, `[CLS] Protein A [SEP] Protein B [SEP]`. **`[EOS]`**: Short for \"end of sentence\", this token is used to indicate the end of a sentence or sequence. Some models like GPT use this token to indicate when they should stop generating text. This is especially important in tasks such as text generation, where the model needs to decide the length of the generated sequence."
   ]
  },
  {
   "cell_type": "markdown",
   "id": "95d47c2c",
   "metadata": {},
   "source": [
    "### Embeddings\n",
    "\n",
    "After tokenization, we can't directly feed these sequences into a model, as each token has a single dimension representation (one number represents it). This is not nearly enough information to learn about the language. In NLP, token embedding is a technique where tokens are mapped to vectors of real numbers. These vectors aim to encode the semantic or syntactic meaning of the tokens.\n",
    "\n",
    "In pLMs, we do a similar thing with amino acid sequences. We convert each amino acid into vectors of real numbers. This process is called \"embedding\". Each dimension in the vector space can represent a different property of the amino acid, and similar amino acids (in terms of their properties) will have similar vectors. These vectors are learned during the training process of the model, aiming to capture relevant properties of the amino acids (like hydrophobicity, size, charge… any physicochemical property) based on their context in the protein sequences.\n",
    "\n",
    "<img src=\"assets/embeddings.png\">\n",
    "\n",
    "https://ieeexplore.ieee.org/document/9477085\n",
    "\n",
    "Above we see amino acid embeddings plotted into a 2-dimensional space with PCA. Before training, the embeddings are random. But after training, the embeddings show groups of amino acids that have similar physicochemical properties.\n",
    "\n",
    "The advantage of using embeddings is that they can capture complex relationships between amino acids and represent them in a compact form, which makes the task of predicting protein structure or function more feasible.\n",
    "\n",
    "After tokenization and embedding, each token (amino acid) is represented by a vector in the embedding space. These vectors are stored in a matrix, the so-called \"token embedding matrix\". This matrix is essentially a lookup table, where each row corresponds to a specific amino acid's vector representation. The dimensionality of this matrix is typically (vocab size x embedding dimension). The dimension used for pLMs is typically around 1024, so an example embedding matrix may be 20 x 1024."
   ]
  },
  {
   "cell_type": "markdown",
   "id": "54602f6c",
   "metadata": {},
   "source": [
    "### Transformers\n",
    "\n",
    "At its heart, a **Transformer** is a neural network that processes sequences (like text, proteins, small molecules) by repeatedly mixing information across tokens. It does so using two fundamental operations:\n",
    "\n",
    "1. **Self-Attention:**\n",
    "    \n",
    "    This mechanism lets every token “look at” (or attend to) every other token in the sequence, measuring their similarity to decide how much information to gather from each. It’s like having each word in a sentence ask, “Which other words are most relevant to me?”\n",
    "    \n",
    "2. **Multi-Layer Perceptron (MLP):**\n",
    "    \n",
    "    After the attention has mixed the information, an MLP (a simple feed-forward network) processes each token independently to add non-linear transformations. This helps the model capture complex patterns and higher-level abstractions.\n",
    "    \n",
    "\n",
    "So we let the portions of the input talk to each other with attention, and we modify the inputs themselves with the MLP.\n",
    "\n",
    "In a Transformer layer (or “block”), these two operations are typically arranged in sequentially (with additional normalization and residual connections, which we won’t detail here for simplicity). A full transformers is just a bunch of these blocks stacked together sequentially. For context, GPT3 is 96 blocks and ESM2 (650M) is 33 blocks.\n",
    "\n",
    "### What Is Self-Attention?\n",
    "\n",
    "Self-attention is a way for the model to compute relationships between tokens. It works by transforming the input tokens into three sets of vectors:\n",
    "\n",
    "- **Queries (Q)**\n",
    "- **Keys (K)**\n",
    "- **Values (V)**\n",
    "\n",
    "The idea is to measure how similar the query of one token is to the keys of all tokens. These similarities then determine how much each token’s value should contribute to the updated representation.\n",
    "\n",
    "### The Math Behind It\n",
    "\n",
    "For a set of token embeddings organized as a matrix $X \\in \\mathbb{R}^{l \\times d}$ (with $l$  tokens and embedding dimension d), we project X into $Q$, $K$, and $V$ using learned weight matrices:\n",
    "\n",
    "$Q = XW_Q,\\quad K = XW_K,\\quad V = XW_V$,\n",
    "\n",
    "where an input of L tokens makes $X \\in \\mathbb{R}^{l \\times d}$ and the weights are $\\mathbb{R}^{d \\times d}$\n",
    "\n",
    "The self-attention output is computed as:\n",
    "\n",
    "$\\text{Attention}(Q, K, V) = \\text{softmax}\\!\\left(\\frac{QK^\\top}{\\sqrt{d_k}}\\right) V.$\n",
    "\n",
    "Here, $d_k$ is the dimensionality of the query/key space (often $d_k = d / h$ when using $h$ attention heads), and the scaling factor $\\sqrt{d_k}$ prevents the dot products from growing too large.\n",
    "\n",
    "Below is a simple Python-like pseudocode that demonstrates how you might compute scaled dot-product attention:"
   ]
  },
  {
   "cell_type": "code",
   "execution_count": 39,
   "id": "a8c5b5ea",
   "metadata": {},
   "outputs": [
    {
     "name": "stdout",
     "output_type": "stream",
     "text": [
      "torch.Size([5, 64])\n"
     ]
    }
   ],
   "source": [
    "import torch\n",
    "import torch.nn.functional as F\n",
    "\n",
    "\n",
    "def scaled_dot_product_attention(Q, K, V, mask=None):\n",
    "    \"\"\"\n",
    "    Q, K, V: Tensors of shape (L, d_k)\n",
    "    mask: Optional tensor of shape (L, L) with 0's for positions to mask out.\n",
    "    \"\"\"\n",
    "    d_k = Q.shape[-1]\n",
    "    scores = torch.matmul(Q, K.T) / torch.sqrt(torch.tensor(d_k, dtype=torch.float32))  # Compute similarity scores\n",
    "    \n",
    "    if mask is not None:\n",
    "        scores = scores.masked_fill(mask == 0, float('-inf'))  # Mask out unwanted positions\n",
    "    \n",
    "    scores= F.softmax(scores, dim=-1)\n",
    "    output = torch.matmul(scores, V)\n",
    "    return output\n",
    "\n",
    "# Example usage:\n",
    "L, d_k = 5, 64  # 5 tokens, 64-dimensional key/query vectors\n",
    "Q = torch.randn(L, d_k)\n",
    "K = torch.randn(L, d_k)\n",
    "V = torch.randn(L, d_k)\n",
    "\n",
    "attention_output = scaled_dot_product_attention(Q, K, V)\n",
    "print(attention_output.shape)  # (5, 64)\n",
    "\n",
    "# You can use F.scaled_dot_product_attention for a built in faster implementation"
   ]
  },
  {
   "cell_type": "markdown",
   "id": "4c6059dc",
   "metadata": {},
   "source": [
    "### Multi-Head Attention\n",
    "\n",
    "Instead of performing a single attention computation, Transformers split the input into multiple “heads.” Each head computes attention with its own set of projections, allowing the model to learn different aspects of similarity. The outputs of all heads are then concatenated and linearly transformed back to the original embedding space.\n",
    "\n",
    "Mathematically, if you have nn heads:\n",
    "\n",
    "$\\text{head}^{(i)} = \\text{Attention}(XW_Q^{(i)}, XW_K^{(i)}, XW_V^{(i)}), \\quad i=1,\\dots,n,$\n",
    "\n",
    "$\\text{MultiHead}(X) = \\text{Concat}\\!\\left(\\text{head}^{(1)}, \\dots, \\text{head}^{(n)}\\right) W_O.$\n",
    "\n",
    "Here, $W_O$  is a learned matrix that mixes the information from all heads.\n",
    "\n",
    "---\n",
    "\n",
    "### The Role of the MLP\n",
    "\n",
    "After attention has mixed information across tokens, an **MLP** (usually a two-layer feed-forward network with a non-linear activation like ReLU or GeLU) is applied independently to each token. This allows the model to further transform and refine each token’s representation:\n",
    "\n",
    "$\\text{MLP}(x) = W_2 \\sigma(W_1 x + b_1) + b_2,$\n",
    "\n",
    "where xx is a token’s vector, $W_1$  and $W_2$  are weight matrices, $b_1$  and $b_2$  are biases, and $\\sigma$ is an activation function.\n",
    "\n",
    "---\n",
    "\n",
    "### Why Positional Encodings?\n",
    "\n",
    "One important feature of self-attention is that it’s **permutation invariant**—it treats the tokens as a set and ignores their order. Yet, sequence order is crucial in language (or any sequential data). To inject order, **positional encodings** are added to the token embeddings.\n",
    "\n",
    "### Rotary Positional Encodings (RoPE)\n",
    "\n",
    "While early Transformers added fixed (sine–cosine) or learned positional embeddings directly to the token embeddings, modern models often use **rotary positional encodings (RoPE)**. Instead of simply adding positional information, RoPE **rotates** the query and key vectors in a way that encodes relative positions.\n",
    "\n",
    "**Relative Awareness:** By “rotating” vectors according to their position, the dot product between rotated queries and keys naturally becomes a function of the relative distance between tokens. This helps the model capture relationships like “this word is 3 tokens ahead” more elegantly.\n",
    "\n",
    "**Extrapolation:** RoPE has been shown to help models generalize to longer sequences than those seen during training, as the mechanism is continuous and inherently relative.\n",
    "\n",
    "### A Glimpse at the Math\n",
    "\n",
    "Without diving into all the implementation details, consider that for every pair of dimensions (treating them as the real and imaginary parts of a complex number), RoPE applies a rotation:\n",
    "\n",
    "$\\begin{pmatrix}\n",
    "q_{2i-1}' \\\\\n",
    "q_{2i}'\n",
    "\\end{pmatrix} =\n",
    "\\begin{pmatrix}\n",
    "\\cos(\\theta_{pos}) & -\\sin(\\theta_{pos}) \\\\\n",
    "\\sin(\\theta_{pos}) & \\cos(\\theta_{pos})\n",
    "\\end{pmatrix}\n",
    "\\begin{pmatrix}\n",
    "q_{2i-1} \\\\\n",
    "q_{2i}\n",
    "\\end{pmatrix},$\n",
    "\n",
    "where $\\theta_{pos}$ is a rotation angle determined by the token’s position and a frequency parameter. The same rotation is applied to the key vectors. The resulting dot products inherently encode the distance between positions."
   ]
  },
  {
   "cell_type": "markdown",
   "id": "7aef77f3",
   "metadata": {},
   "source": [
    "### Intuition Behind Attention\n",
    "\n",
    "Imagine each token’s representation as a point in a high-dimensional space. Self-attention works by transforming these points (via learned projections) so that tokens which are contextually or semantically related end up “close” together. Then:\n",
    "\n",
    "- **Similarity as a Signal:** The dot product between queries and keys measures similarity. A high dot product indicates that two tokens are similar (or related) in the transformed space.\n",
    "- **Dynamic Information Routing:** When a token “asks” for relevant information (its query), the model uses these similarity scores to weight the contributions of other tokens (their values). This means that the model can dynamically route information based on the current context.\n",
    "- **Connection to Training Data:** Because the projections are learned over vast amounts of training data, the attention mechanism can effectively “look up” patterns, relationships, and even subtle nuances that were common in the training set. In this way, attention can bring in aspects of the model’s learned knowledge that are most relevant to the input at hand.\n",
    "\n",
    "---\n",
    "\n",
    "### Putting It All Together\n",
    "\n",
    "A modern Transformer layer essentially alternates between:\n",
    "\n",
    "- **Self-Attention (with Multi-Head variants and positional encodings like RoPE):** Mixing information across tokens based on learned similarities.\n",
    "- **MLP (Feed-Forward Networks):** Processing each token individually to capture non-linear interactions.\n",
    "\n",
    "Stacking many such layers allows the model to build deep, hierarchical representations of the input sequence, capturing both local and global dependencies. This simplicity, combined with powerful training on massive datasets, is what has made Transformers the workhorse of today’s NLP (and beyond)."
   ]
  },
  {
   "cell_type": "markdown",
   "id": "0f6ed27d",
   "metadata": {},
   "source": [
    "## Computer vision"
   ]
  },
  {
   "cell_type": "markdown",
   "id": "522a46a7",
   "metadata": {},
   "source": [
    "### Convolutional networks\n",
    "\n",
    "Convolutional neural networks utilize many differently sized convolutional layers to encode input images into a large dimensional feature space, learn about that feature space, and then decode it into an output. Typically, during the encoding process images are upscaled through several increased kernel sizes of convolutional layers, and during decoding, the images are pooled into decreased kernel sizes. These convolutional layers are often applied in “blocks,” where convolutional layers are paired with feed-forward layers to modify and learn more from the feature space.\n",
    "\n",
    "For whole image classification tasks, there may be feed-forward layers after the final convolution to project the feature space into a small set of classes, typically with softmax or sigmoid at the end to represent the probability of a given class.\n",
    "\n",
    "Segmentation tasks serve to classify every pixel of an image independently, thus the final convolutional block must result in the same sized image that was input, with softmax or sigmoid applied to every pixel at the end. Typically, each channel of the image represents a different class, so each channel contains 0 to 1 predictions in each pixel for that specific class.\n",
    "\n",
    "In either case, it is very common to utilize skip connections to pass information through the model uniformly, ensuring that each component has as much feature information available as possible. The combination of all the computer vision concepts we have covered is included in the custom UNET model below.\n",
    "\n",
    "<img src=\"assets/unet.png\">\n",
    "\n",
    "This UNET architecture is the compilation of image-related concepts so far. Differently sizes convolutional blocks with max pooling aggregate image features into very large tensors; this is the encoder section of the model. Then, a decoder scales backward through the same convolutional blocks in reverse with upscaling layers back to the original image size. Much of the learning occurs in the feed-forward layers in the convolutional blocks. Additionally, skip connections aggregate data of the same size between the encoder and decoder, ensuring that all sections of the model have all aspects of the feature information they might need. In practice, these drastically smooth out the weight-loss landscape. Applied to the skip connections are attention gates (covered below), which decompose the features strategically and down-sample irrelevant information for the given prediction. Additionally, the convolutional blocks are recurrent, so they repeat t times.\n",
    "\n",
    "The compilation of all of these mathematical operations allows for a wide range of weight optimizations that can classify or segment a huge variety of images.\n",
    "\n",
    "#### Image Attention\n",
    "\n",
    "It is common in modern image models to add an “attention gate” at the end of skip connections to filter what input information is being fed to model. For instance, if the background of an image is not important for the given task an attention gate might put the attention coefficients for those pixels close to 0, and therefore, shrink the corresponding gradients for that “region” after convolution and back propagation.\n",
    "\n",
    "Attention gates work similarly to normal attention layers; by providing a learned (weighted) matrix decomposition to the model. While the mathematical operation is the same (QKV, softmax, etc.) the Q K and V are not coming from a sequence of “tokens.” Instead, 1x1x1 convolutions are commonly used to represent the feature space of the input information in a concise way. After 1x1x1 convolution the chosen attention formula (additive vs. dot product, softmax vs. sigmoid) is applied and the following information from the skip connect is aggregated with the next part of the model. Importantly, there is typically no notion of multi-head image attention. However, it is feasible to set up some varying attention gates and aggregate them together."
   ]
  },
  {
   "cell_type": "markdown",
   "id": "b406c551",
   "metadata": {},
   "source": [
    "## \"CLIP\" architectures"
   ]
  },
  {
   "cell_type": "markdown",
   "id": "1324dfec",
   "metadata": {},
   "source": [
    "CLIP (Contrastive Language–Image Pretraining) is a model developed by OpenAI that connects vision and language. It is trained on a large amount of publicly available internet text paired with images. However, unlike many previous approaches, it doesn't require the images and text to be specifically paired together. The model learns to associate images and text in a way that is useful for a wide range of tasks.\n",
    "\n",
    "CLIP consists of two primary components:\n",
    "\n",
    "1. A vision encoder: This is a convolutional neural network that transforms an image into a feature vector.\n",
    "2. A language encoder: This is a transformer model that transforms a sentence into a feature vector.\n",
    "\n",
    "If these vectors are not the same size, they can be projected to the same space with a small feed-forward network. Given an image, the model can generate a textual description (text-to-image translation), and given a textual description, the model can generate an image (image-to-text translation).\n",
    "\n",
    "This is achieved by training the model to bring the image and text embeddings closer together for positive pairs (text that correctly describes the image) while pushing them apart for negative pairs (text that does not describe the image).\n",
    "\n",
    "The similarity between the vectors is typically computed using cosine similarity, which is a measure of similarity between two vectors that considers their direction but not their magnitude. The cosine similarity between two vectors $a$ and $b$ is computed as follows:\n",
    "\n",
    "$$\n",
    "\\text{cosine similarity}(a, b) = \\frac{a\\cdot b}{||a|| ||b||}\n",
    "$$\n",
    "\n",
    "where $||a||$ and $||b||$ denote the L2 norms of the vectors $a$ and $b$, respectively.\n",
    "\n",
    "Cosine similarity ranges from -1 (completely dissimilar) to 1 (completely similar). In the case of CLIP, the aim is to maximize the cosine similarity for related inputs.\n",
    "\n",
    "<img src=\"assets/clip_1.png\">\n",
    "\n",
    "One of the key benefits of CLIP is that it allows \"zero-shot\" learning, i.e., it can be applied to tasks it has not seen during training. It is highly efficient! This is because the model has learned a rich representation that connects language and vision, and this representation can generalize to new tasks.\n",
    "\n",
    "This can also be extended to a Text2Text “CLIP.\" For example, one transformer model gives a feature vector that represents a sequence, and another gives a feature vector that represents a description of that sequence. Align them by training over time with a loss function that is negative cosine similarity (remember we want the loss to go down during training). Then, we can go from description to protein sequence and protein sequence to description, which is hugely important for synthetic generation and the annotation of proteins!\n",
    "\n",
    "<img src=\"assets/clip_2.png\">"
   ]
  },
  {
   "cell_type": "markdown",
   "id": "d8eb0b22",
   "metadata": {},
   "source": [
    "## Generative models"
   ]
  },
  {
   "cell_type": "markdown",
   "id": "73b16431",
   "metadata": {},
   "source": [
    "### Auto-regression\n",
    "\n",
    "GPT (Generative Pretrained Transformer) models are transformer-based models designed for language generation tasks. They are \"decoder-only\" models, meaning they only use the decoder part of the original transformer model. GPT models generate text in an autoregressive manner, one token at a time, based on the previously generated tokens.\n",
    "\n",
    "In an autoregressive transformer model like GPT, during both training and generation, the model looks at the previous tokens in the sequence to predict the next token. It does not have any visibility into future tokens, which enforces a causal, left-to-right structure on the generation process. This is implemented via a masked self-attention mechanism in the transformer layers, which ensures that the attention score for a position and any subsequent positions is always zero.\n",
    "\n",
    "Let's denote the input sequence as `x = (x_1, x_2, ..., x_t)`. The task of the model at each timestep `t` is to predict the next token `x_{t+1}` given the previous tokens `(x_1, ..., x_t)`. The probability of generating a sequence `x` can be factorized into a product of conditional probabilities, each predicting the next token given the previous ones:\n",
    "\n",
    "$$\n",
    "P(x) = Π_t P(x_t | x_1, ..., x_{t-1})\n",
    "\n",
    "$$\n",
    "\n",
    "The model is trained to maximize this probability over the training data.\n",
    "\n",
    "When generating new sequences, the model samples one token at a time. At each timestep, it samples a token `x_{t+1}` from the conditional distribution `P(x_{t+1} | x_1, ..., x_t)`, appends it to the sequence, and continues to the next timestep.\n",
    "\n",
    "Autoregressive language generation like this allows the model to generate coherent and contextually relevant text, making it suitable for tasks like text completion, summarization, and translation. However, because each token must be generated one at a time, autoregressive generation can be slower than other methods that allow for parallel generation. Additionally, they can be made more complicated and effective with search algorithms. Here are two ways that typical conditional generation through auto-regression can be improved.\n",
    "\n",
    "**Search Algorithms**\n",
    "\n",
    "The simplest method of generation is greedy search, where the model picks the token with the highest probability as its next token. While this approach is computationally efficient, it can often lead to repetitive and non-diverse output because it always chooses the most likely next word and does not explore other possibilities.\n",
    "\n",
    "To introduce more diversity into the generation process, other search algorithms are often used. These include:\n",
    "\n",
    "- **Beam Search:** Instead of keeping only the single best hypothesis at each time step, Beam Search maintains the top `k` hypotheses, where `k` is a hyperparameter known as the beam width. At each time step, it expands each of the `k` hypotheses with all possible next tokens, and keeps only the top `k` of these. While Beam Search can often generate more fluent text than greedy decoding, it has a tendency to favor shorter sequences and can sometimes miss the globally best output because it makes locally greedy decisions.\n",
    "- **Top-k Sampling:** At each time step, Top-k sampling chooses from the top `k` most likely next tokens. This introduces more randomness into the generation process, which can lead to more diverse outputs.\n",
    "- **Top-p (nucleus) Sampling:** Top-p sampling chooses from the smallest set of top tokens whose cumulative probability exceeds a certain threshold `p`. This means the model considers only the most probable tokens but doesn't limit the number to a fixed `k`. This can lead to more dynamically diverse outputs."
   ]
  }
 ],
 "metadata": {
  "kernelspec": {
   "display_name": "Python 3",
   "language": "python",
   "name": "python3"
  },
  "language_info": {
   "codemirror_mode": {
    "name": "ipython",
    "version": 3
   },
   "file_extension": ".py",
   "mimetype": "text/x-python",
   "name": "python",
   "nbconvert_exporter": "python",
   "pygments_lexer": "ipython3",
   "version": "3.11.8"
  }
 },
 "nbformat": 4,
 "nbformat_minor": 5
}
